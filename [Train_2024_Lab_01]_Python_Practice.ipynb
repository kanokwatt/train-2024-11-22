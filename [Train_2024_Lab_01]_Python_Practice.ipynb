{
  "nbformat": 4,
  "nbformat_minor": 0,
  "metadata": {
    "colab": {
      "provenance": [],
      "collapsed_sections": [
        "80oyq9jnDpQf",
        "sfjhWeP0EqTt",
        "GindVzEnE8HJ",
        "SLczr_3vGT0w",
        "ejn7LvXNZuK7",
        "9a3OYjYHHAig",
        "L0O_Dzx0McN2",
        "C0g-ikEyPNrp",
        "Aa63zz2UPsik",
        "20B9Y8l7P7Sd",
        "T2l7eRqhQGer",
        "uHZHXuROQ0Pc",
        "OMHYzfSwSds6",
        "VB0fhJIXTkDN",
        "IXC2X76GTQ6Z",
        "ViJjwoqIUQw-",
        "eRyKTNTSVUe7",
        "bR6uhJCBWcTw",
        "Q4d-NQ58Xxmf",
        "P7A4ACllcKbj",
        "_HlhHL4ACg94",
        "fzRQxaJwiDYO",
        "fEdZ5-oTlGU-",
        "bpHTFnrTmpv8",
        "RMWX3y7-lHPZ",
        "I5kfHk_1Hinz",
        "pxRTm2rrHl4f",
        "Uhu2u6dDQiVR",
        "Khj5SuqJa234",
        "H_yHEStT5nF9",
        "4ek60NzOmZCi",
        "pawm7deLbbuT",
        "Wzr-uxi99vam",
        "PyjNTSrbM3D7",
        "VGoujBGxOJPL",
        "NL8qsnNbKLOv",
        "vz6GoWMHq4vJ",
        "lm0ZK3YqrEg7",
        "A7eHprT5KNnY"
      ]
    },
    "kernelspec": {
      "name": "python3",
      "display_name": "Python 3"
    },
    "language_info": {
      "name": "python"
    }
  },
  "cells": [
    {
      "cell_type": "markdown",
      "source": [
        "## **Introduction to Python: Concept and Practices**\n",
        "1. ไวยากรณ์ (Syntax)\n",
        "2. ตัวแปร (Variables) และ ชนิดของข้อมูล (Data Types) ที่จัดเก็บในตัวแปร\n",
        "3. การแสดงผลลัพธ์ (Print: Output)\n",
        "4. การจัดการรูปแบบ (Formatting) การแสดงผลของข้อความ (String) ตัวเลข (Number) และ วัน-เวลา (Datetime)\n",
        "5. การดำเนินการกับข้อความ (Basic String Operation)\n",
        "6. การรับข้อมูลจากแป้นพิมพ์ (User Input)\n",
        "7. ตัวดำเนินการพื้นฐาน (Basic Operators)\n",
        "8. โครงสร้างข้อมูล (Data Structures)\n",
        "  *   List, Tuples, Set และ Dictionary\n",
        "9. การกำหนดเงื่อนไข (Condition: If-Else)\n",
        "10. การวนซ้ำ (Loops: For / While)\n",
        "11. ฟังก์ชัน (Functions)\n",
        "12. ขอบเขตของตัวแปร (Scope)\n",
        "13. โมดูล (Modules) และแพ็กเกจ (Packages)\n",
        "14. คลาส (Classes) และ วัตถุ (Objects)"
      ],
      "metadata": {
        "id": "oYYh8uIO41Ll"
      }
    },
    {
      "cell_type": "markdown",
      "source": [
        "## โจทย์ฝึกปฏิบัติการเขียนโปรแกรมด้วยภาษา Python ในระยะเวลา 2 ชั่วโมง 45 นาที !"
      ],
      "metadata": {
        "id": "rdGvGpPB46Nj"
      }
    },
    {
      "cell_type": "markdown",
      "source": [
        "### **Level 0:** ทำความรู้จักไวยากรณ์ (Syntax) ตัวแปร (Variables) ชนิดข้อมูล (Data Types) การแสดงผลลัพธ์ (Output) และการจัดรูปแบบ (Format)"
      ],
      "metadata": {
        "id": "80oyq9jnDpQf"
      }
    },
    {
      "cell_type": "markdown",
      "source": [
        "#### **1. ไวยากรณ์ (Syntax)** เป็นกฎ (Rule) พื้นฐานของภาษาที่เราใช้ในการเขียนโปรแกรม <br/>\n",
        "\n",
        "* **Case Sensitive**: ตัวอักษรพิมพ์เล็ก และตัวพิมพ์ใหญ่ มีความหมายต่างกัน data กับ DATA เป็นตัวแปรคนละตัวกัน\n",
        "* **Indentation**: ภาษาไพทอน (Python) ใช้ย่อหน้า (4 ช่องว่าง) แทนการจัดกลุ่มการทำงานของคำสั่ง\n",
        "* **Comment**: การเขียนคำอธิบายหลักการทำงานของโปรแกรม\n",
        "\n",
        "**References**:\n",
        "* https://www.w3schools.com/python/python_syntax.asp"
      ],
      "metadata": {
        "id": "sfjhWeP0EqTt"
      }
    },
    {
      "cell_type": "code",
      "source": [
        "data = 10         # กำหนดให้ตัวแปร data จัดเก็บค่า 10\n",
        "DATA = 100        # กำหนดให้ตัวแปร DATA จัดเก็บค่า 100\n",
        "\n",
        "data == DATA      # เปรียบเทียบว่าค่าที่จัดเก็บในตัวแปร data เท่ากับ DATA หรือไม่?"
      ],
      "metadata": {
        "id": "FiVBkhFKD7ij"
      },
      "execution_count": null,
      "outputs": []
    },
    {
      "cell_type": "markdown",
      "source": [
        "#### **2. ตัวแปร (Variables) และ ชนิดของข้อมูล (Data Types) ที่จัดเก็บในตัวแปร**\n",
        "\n",
        "**กฎในการตั้งชื่อตัวแปร**:\n",
        "\n",
        "* ขึ้นต้นชื่อ ด้วยตัวอักษร (a-z, A-Z) (ปกติจะเป็น อักษรตัวพิมพ์เล็ก)\n",
        "* ตามด้วย ตัวอักษร (a-z, A-Z) หรือ ตัวเลข (0-9) หรือ \"_\" (underscore)\n",
        "* ไม่อนุญาตให้ใช้ช่องว่าง (spaces) หรือ อักขระพิเศษ (special characters)\n",
        "* ตัวอักษรพิมพ์เล็ก (a-z) พิมพ์ใหญ่ (A-Z) มีความหมายแตกต่างกัน (Case sensitive)\n",
        "\n",
        "\n",
        "\n",
        "**Reference:**<br/>\n",
        "* https://realpython.com/python-double-underscore/"
      ],
      "metadata": {
        "id": "GindVzEnE8HJ"
      }
    },
    {
      "cell_type": "markdown",
      "source": [
        "##### **2.1 การจัดเก็บข้อมูลไว้ในตัวแปร (Assignment)**"
      ],
      "metadata": {
        "id": "SLczr_3vGT0w"
      }
    },
    {
      "cell_type": "code",
      "source": [
        "math = 30\n",
        "stat = 25\n",
        "comp = 25\n",
        "\n",
        "total-score = math + stat   # ระมัดระวัง การตั้งชื่อตัวแปร\n",
        "\n",
        "total-score"
      ],
      "metadata": {
        "id": "bjWMeKomFVrN"
      },
      "execution_count": null,
      "outputs": []
    },
    {
      "cell_type": "markdown",
      "source": [
        "##### **2.2 ชนิดของข้อมูล (Data Types)**\n",
        "\n",
        "<table>\n",
        "  <tr>\n",
        "    <td>ข้อความ (Text)</td>\n",
        "    <td>ตัวอักษร (str)</td>\n",
        "  </tr>\n",
        "  <tr>\n",
        "    <td>ตัวเลข (Numeric)</td>\n",
        "    <td>จำนวนเต็ม (int), จุดทศนิยม (float), จำนวนเชิงซ้อน (complex)</td>\n",
        "  </tr>  \n",
        "  <tr>\n",
        "    <td>จัดเก็บเป็นลำดับ (Sequence)</td>\n",
        "    <td>ลิสต์ (list), ทูเพิล (tuple), ช่วง (range)</td>\n",
        "  </tr>\n",
        "  <tr>\n",
        "    <td>พจนานุกรม (Mapping) </td>\n",
        "    <td>พจนานุกรม (dict)</td>\n",
        "  </tr>\n",
        "  <tr>\n",
        "    <td>เซต (Set)</td>\n",
        "    <td>เซต (set), เซตแช่แข็ง (frozenset)</td>\n",
        "  </tr>\n",
        "  <tr>\n",
        "    <td>ค่าความจริง (Boolean)</td>\n",
        "    <td>บูลีน (bool)</td>\n",
        "  </tr>  \n",
        "  <tr>\n",
        "    <td>เลขฐาน 2 (Binary)</td>\n",
        "    <td>ไบต์ (bytes), ไบต์อาร์เรย์ (bytearray), มุมมองหน่วยความจำ (memoryview)</td>\n",
        "  </tr>  \n",
        "</table>"
      ],
      "metadata": {
        "id": "ejn7LvXNZuK7"
      }
    },
    {
      "cell_type": "code",
      "source": [
        "# การประกาศตัวแปร โดยไม่ระบุ ชนิดข้อมูล\n",
        "\n",
        "number  = 10              # เลขจำนวนเต็ม  (integer)\n",
        "decimal = 2.5             # จุดทศนิยม     (floating-point)\n",
        "text    = 'Hello, World!' # ตัวอักษร       (string)\n",
        "active  = False           # ค่าความจริง     (boolean)\n",
        "\n",
        "names   = ['Ant', 'Bat', 'Cat']       # ลิสต์ (list) หรือ อาร์เรย์ (array) | สร้างแล้ว แก้ไขได้\n",
        "point   = (2, 3)                      # ทูเพิล (tuple)                  | สร้างแล้ว แก้ไขไม่ได้\n",
        "unique  = {1, 2, 2, 4}                # เซต (set)                     | สร้างเพื่อจัดเก็บข้อมูลที่ ไม่มีทางซ้ำ\n",
        "data    = {'name': 'Ant', 'age': 19}  # ดิกชันนารี (dictionary) หรือ (key-value)"
      ],
      "metadata": {
        "id": "JdDoF3f74PhD"
      },
      "execution_count": null,
      "outputs": []
    },
    {
      "cell_type": "code",
      "source": [
        "# แสดงข้อมูลที่จัดเก็บในตัวแปร\n"
      ],
      "metadata": {
        "id": "4_aN3KSuGWlq"
      },
      "execution_count": null,
      "outputs": []
    },
    {
      "cell_type": "code",
      "source": [
        "# ตรวจสอบชนิดของตัวแปรด้วยฟังก์ชัน type(...)\n"
      ],
      "metadata": {
        "id": "9wSdzAKvGWpM"
      },
      "execution_count": null,
      "outputs": []
    },
    {
      "cell_type": "code",
      "source": [
        "# การประกาศตัวแปร โดยระบุ ชนิดข้อมูล\n",
        "\n",
        "number:   int = 10              # เลขจำนวนเต็ม  (integer)\n",
        "decimal:  float = 2.5           # จุดทศนิยม     (floating-point)\n",
        "text:     str = 'Hello, World!' # ตัวอักษร       (string)\n",
        "active:   bool = False          # ค่าความจริง     (boolean)\n",
        "\n",
        "names:    list = ['Ant', 'Bat', 'Cat']      # ลิสต์ (list) หรือ อาร์เรย์ (array) | สร้างแล้ว แก้ไขได้\n",
        "point:    tuple = (2, 3)                    # ทูเพิล (tuple)                  | สร้างแล้ว แก้ไขไม่ได้\n",
        "unique:   set = {1, 2, 2, 4}                # เซต (set)                     | สร้างเพื่อจัดเก็บข้อมูลที่ ไม่มีทางซ้ำ\n",
        "data:     dict = {'name': 'Ant', 'age': 19} # ดิกชันนารี (dictionary) หรือ (key-value)"
      ],
      "metadata": {
        "id": "gQ8yNNnEzmpF"
      },
      "execution_count": null,
      "outputs": []
    },
    {
      "cell_type": "code",
      "source": [
        "# แสดงข้อมูลที่จัดเก็บในตัวแปร\n"
      ],
      "metadata": {
        "id": "bt2d4dFqGWsf"
      },
      "execution_count": null,
      "outputs": []
    },
    {
      "cell_type": "code",
      "source": [
        "# ตรวจสอบชนิดของตัวแปรด้วยฟังก์ชัน type(...)\n"
      ],
      "metadata": {
        "id": "qjaagsr_HLeU"
      },
      "execution_count": null,
      "outputs": []
    },
    {
      "cell_type": "markdown",
      "source": [
        "##### **2.3 การเปลี่ยนชนิดของข้อมูล (Type Casting)**"
      ],
      "metadata": {
        "id": "9a3OYjYHHAig"
      }
    },
    {
      "cell_type": "code",
      "source": [
        "x = \"2\"   # ทดลองเปลี่ยน \"2\" -> \"2.5\"\n",
        "\n",
        "print(x, \"\\tมีชนิดเป็น\", ?(x))               # ตรวจสอบชนิดข้อมูลของ x   ( \\t = tab, \\n = new line)\n",
        "\n",
        "x_int = ?(x)                              # แปลง x ให้กลายเป็นจำนวนเต็ม (int)\n",
        "print(x_int, \"\\tมีชนิดเป็น\", type(x_int))\n",
        "\n",
        "x_float = ?(x)                            # แปลง x ให้กลายเป็นจุดทศนิยม (float)\n",
        "print(x_float, \"\\tมีชนิดเป็น\", type(x_float))"
      ],
      "metadata": {
        "id": "siuKhvgfHahP"
      },
      "execution_count": null,
      "outputs": []
    },
    {
      "cell_type": "code",
      "source": [
        "from datetime import datetime             # นำเข้า datetime เพื่อใช้ในการแสดงวัน-เวลา\n",
        "\n",
        "datetime.now()                            # แสดงวัน-เวลาปัจจุบันของเครื่องคอมพิวเตอร์\n",
        "\n",
        "#print(datetime.now())"
      ],
      "metadata": {
        "id": "8P5TaeX4HaoX"
      },
      "execution_count": null,
      "outputs": []
    },
    {
      "cell_type": "markdown",
      "source": [
        "#### **3. การแสดงผลลัพธ์ (Print: Output)**"
      ],
      "metadata": {
        "id": "51Htryf5LccW"
      }
    },
    {
      "cell_type": "code",
      "source": [
        "print(\"Hello, World\")           # ใช้เครื่องหมาย \" \" หรือ ' ' ในการแสดงข้อความ (str)\n",
        "print(\"Hello\", \"World!\")        # คั่นการแสดงผลด้วยเครื่องหมาย comma (,)\n",
        "print(\"Hi\\nThailand\", end=\" \")  # คั่นการแสดงผลด้วยอักขระพิเศษ special character ขึ้นบรรทัดใหม่ (\\n), Tab (\\t), end= (ปิดท้ายด้วย)\n",
        "print('The Land of SMILE')      # ใช้เครื่องหมาย \" \" หรือ ' ' ในการแสดงข้อความ (str)"
      ],
      "metadata": {
        "id": "0R_xRKuLHasl"
      },
      "execution_count": null,
      "outputs": []
    },
    {
      "cell_type": "markdown",
      "source": [
        "#### **4. การจัดการรูปแบบ (Formatting) การแสดงผลของข้อความ (String) ตัวเลข (Number) และ วัน-เวลา (Datetime)**"
      ],
      "metadata": {
        "id": "L0O_Dzx0McN2"
      }
    },
    {
      "cell_type": "code",
      "source": [
        "# การแสดงผลข้อความ (String) ด้วย f-string\n",
        "sample = \"hello\"\n",
        "\n",
        "print(sample)             # แสดงข้อความ hello\n",
        "print(f\"{sample}:\")       # แสดงข้อความ hello ด้วยการจัดรูปแบบ f-string\n",
        "print(f\"{sample?}:\")    # แสดงข้อความ hello ด้วยการจัดรูปแบบ f-string  :20   โดยจองพื้นที่ไว้ 20 ช่อง"
      ],
      "metadata": {
        "id": "K_XhV0FdMTKt"
      },
      "execution_count": null,
      "outputs": []
    },
    {
      "cell_type": "code",
      "source": [
        "# การแสดงผลตัวเลข (Number)\n",
        "income = 1234.567                 # จุดทศนิยม\n",
        "\n",
        "print(f\"weight = {income}\")       # แสดงข้อมูลตามต้นฉบับ\n",
        "print(f\"weight = {income:?}\")     # แสดงข้อมูลเฉพาะเลขที่อยู่หน้าจุดทศนิยม :.0f (จะมีการปัดเศษขึ้น เมื่อค่าจุดทศนิยม >= 0.5)"
      ],
      "metadata": {
        "id": "wK3QeFWsMTNu"
      },
      "execution_count": null,
      "outputs": []
    },
    {
      "cell_type": "code",
      "source": [
        "print(\"************************\") # ทดลองเอาตัวเลขมาคูณกับตัวอักษร print(\"*\" * 25)\n",
        "\n",
        "print(f\"weight = {income:,f}\")    # แสดงข้อมูลตามต้นฉบับ ด้วยจุดทศนิยม 6 ตำแหน่ง :,f   (มีเครื่องหมาย comma (,) คั่น)\n",
        "print(f\"weight = {income:,.0f}\")  # แสดงข้อมูลเฉพาะเลขที่อยู่หน้าจุดทศนิยม         :,.0f (มีเครื่องหมาย comma (,) คั่น) (จะมีการปัดเศษขึ้น เมื่อค่าจุดทศนิยม >= 0.5)"
      ],
      "metadata": {
        "id": "CC46Kzv-MTQO"
      },
      "execution_count": null,
      "outputs": []
    },
    {
      "cell_type": "code",
      "source": [
        "# การแสดงผลลัพธ์ วัน-เวลา (Datetime)\n",
        "# https://pynative.com/python-datetime-format-strftime/\n",
        "\n",
        "from datetime import datetime\n",
        "\n",
        "now = datetime.now()\n",
        "now   # แสดงข้อมูล วัน-เวลา ที่จัดเก็บในวัตถุ datetime (datetime.datetime(2024, 11, 17, 4, 11, 40, 517512))\n",
        "\n",
        "# print(now)  # แสดงข้อมูล วัน-เวลา ที่จัดเก็บในวัตถุ datetime\n",
        "# print()\n",
        "\n",
        "# print(\"Date:\", now.strftime(\"?\"))  # วัน/เดือน/ปี แบบย่อ %d %m %y\n",
        "# print(\"Date:\", now.strftime(\"?\"))  # วัน/เดือน/ปี โดยแสดง วัน เดือน(แบบตัวอักษรย่อ) ปี(เต็มรูปแบบ) %d %b %Y\n",
        "# print(\"Date:\", now.strftime(\"?\"))  # วัน/เดือน/ปี โดยแสดง วัน เดือน(เต็มรูปแบบ)     ปี(เต็มรูปแบบ) %d %B %Y\n",
        "\n",
        "# print()\n",
        "# print(\"Time:\", now.strftime(\"?\"))  # ชั่วโมง:นาที:วินาที %H %M %S"
      ],
      "metadata": {
        "id": "IHfi5KMhMTSt"
      },
      "execution_count": null,
      "outputs": []
    },
    {
      "cell_type": "markdown",
      "source": [
        "### **Level 1:** การดำเนินการกับข้อความ (Basic String Operation)"
      ],
      "metadata": {
        "id": "C0g-ikEyPNrp"
      }
    },
    {
      "cell_type": "markdown",
      "source": [
        "#### **5.1 การนับจำนวน ตัวอักษร: len(...)**"
      ],
      "metadata": {
        "id": "Aa63zz2UPsik"
      }
    },
    {
      "cell_type": "code",
      "source": [
        "my_string = \"   I Like U   \"\n",
        "\n",
        "my_string     # นับจำนวนตัวอักษร (รวมช่องว่าง: space): len(...)"
      ],
      "metadata": {
        "id": "Ertebr2fMTVZ"
      },
      "execution_count": null,
      "outputs": []
    },
    {
      "cell_type": "markdown",
      "source": [
        "#### **5.2 การแทนที่ ตัวอักษร: replace(...)**"
      ],
      "metadata": {
        "id": "20B9Y8l7P7Sd"
      }
    },
    {
      "cell_type": "code",
      "source": [
        "print(my_string)  # ข้อความเริ่มต้น\n",
        "\n",
        "new_string = my_string.replace('Like', '?')  # แทนคำว่า 'Like' ด้วยคำว่า 'Love' ด้วย method .replace(...)\n",
        "\n",
        "print(new_string) # ข้อความหลังจากเรียกใช้งาน .replace(...)"
      ],
      "metadata": {
        "id": "NQ-y33-NMTXs"
      },
      "execution_count": null,
      "outputs": []
    },
    {
      "cell_type": "markdown",
      "source": [
        "#### **5.3 การลบช่องว่างออกจาก ตัวอักษร:** lstrip(...), rstrip(...), strip(...)"
      ],
      "metadata": {
        "id": "T2l7eRqhQGer"
      }
    },
    {
      "cell_type": "code",
      "source": [
        "# 1. การลบช่องว่าง ด้านหน้าออก ด้วย lstrip(...)\n",
        "\n",
        "print(my_string)                # ข้อความเริ่มต้น\n",
        "\n",
        "left_str = my_string.?          # ทำการลบช่องว่าง ด้านหน้าออก ด้วย method .lstrip()\n",
        "\n",
        "print(left_str)                 # ข้อความหลังจากเรียกใช้งาน .lstrip(...)"
      ],
      "metadata": {
        "id": "eu1MCjY4MTaW"
      },
      "execution_count": null,
      "outputs": []
    },
    {
      "cell_type": "code",
      "source": [
        "# 2. การลบช่องว่าง ด้านหลังออก ด้วย rstrip(...)\n",
        "\n",
        "print(my_string)                # ข้อความเริ่มต้น\n",
        "\n",
        "right_str = my_string.?         # ทำการลบช่องว่าง ด้านหลังออก ด้วย method .rstrip()\n",
        "\n",
        "print(right_str)                # ข้อความหลังจากเรียกใช้งาน .rstrip(...)"
      ],
      "metadata": {
        "id": "dphp3TvxMTc9"
      },
      "execution_count": null,
      "outputs": []
    },
    {
      "cell_type": "code",
      "source": [
        "# 3. การลบช่องว่าง ด้านหน้า-หลังออก ด้วย strip(...)\n",
        "\n",
        "print(my_string)                # ข้อความเริ่มต้น\n",
        "\n",
        "strip_str = my_string.?         # ทำการลบช่องว่าง ด้านหน้า-หลังออก ด้วย method .strip()\n",
        "\n",
        "print(strip_str)                # ข้อความหลังจากเรียกใช้งาน .strip(...)"
      ],
      "metadata": {
        "id": "mRE_dehCQVe8"
      },
      "execution_count": null,
      "outputs": []
    },
    {
      "cell_type": "markdown",
      "source": [
        "#### **5.4 การเชื่อมตัวอักษรที่จัดเก็บในลิสต์ (List)**  / **การแปลงตัวอักษรพิมพ์เล็ก ใหญ่**"
      ],
      "metadata": {
        "id": "uHZHXuROQ0Pc"
      }
    },
    {
      "cell_type": "code",
      "source": [
        "my_list = ['i', 'lOve', 'phaYao']\n",
        "\n",
        "print(my_list)  # แสดงสมาชิกที่อยู่ใน ลิสต์ (list)\n",
        "print()\n",
        "\n",
        "my_string = \" \".?(my_list)      # สร้างประโยค ด้วยการนำเอาสมาชิกที่อยู่ใน ลิสต์ (list) มาเชื่อมกัน .join(...) ด้วยช่องว่าง (space)\n",
        "\n",
        "print(my_string)                # ข้อมูลที่จัดเก็บใน my_string\n",
        "#print(?(my_string))            # ตรวจสอบชนิดของข้อมูล my_string : type(...)\n",
        "#print()\n",
        "\n",
        "#print(my_string.?())           # แปลงข้อความให้เป็นอักษรตัวพิมพ์เล็ก               .lower()\n",
        "#print(my_string.?())           # แปลงข้อความให้เป็นอักษรตัวพิมพ์ใหญ่              .upper()\n",
        "#print(my_string.capitalize())  # แปลงข้อความให้ประโยคขึ้นต้นด้วยตัวอักษรพิมพ์ใหญ่   .capitalize()\n",
        "#print(my_string.title())       # แปลงข้อความให้แต่ละคำ ขึ้นต้นด้วยตัวอักษรพิมพ์ใหญ่  .title()"
      ],
      "metadata": {
        "id": "EJXjEzk6QViD"
      },
      "execution_count": null,
      "outputs": []
    },
    {
      "cell_type": "markdown",
      "source": [
        "### **Level 2:** การรับข้อมูลจากแป้นพิมพ์ (User Input)\n"
      ],
      "metadata": {
        "id": "OMHYzfSwSds6"
      }
    },
    {
      "cell_type": "markdown",
      "source": [
        "#### **6. ข้อมูลที่ได้จากฟังก์ชัน input(...)** จะมีชนิดเป็น***ตัวอักษร (str)***"
      ],
      "metadata": {
        "id": "VB0fhJIXTkDN"
      }
    },
    {
      "cell_type": "code",
      "source": [
        "midterm = input(\"Midterm score: \")     # คะแนน midterm จะมีชนิดเป็นตัวอักษร (str)  -> 12.4\n",
        "final   = input(\"Final score: \")       # คะแนน final   จะมีชนิดเป็นตัวอักษร (str)  -> 30.5\n",
        "\n",
        "total = midterm + final       # ตัวอักษร (str) + ตัวอักษร (str) การนำตัวอักษรมาต่อกัน (concatenate)\n",
        "\n",
        "print(f\"Your score: {total}\") # ตัวอักษร (str)"
      ],
      "metadata": {
        "id": "2lCaics6QVmE"
      },
      "execution_count": null,
      "outputs": []
    },
    {
      "cell_type": "code",
      "source": [
        "midterm = (input(\"Midterm score: \")) # คะแนน midterm จะมีชนิดเป็นตัวอักษร (str) -> แปลงให้เป็นตัวเลขจุดทศนิยม (float) / ทดลองเปลี่ยน float เป็น int\n",
        "final   = (input(\"Final score: \"))   # คะแนน final   จะมีชนิดเป็นตัวอักษร (str) -> แปลงให้เป็นตัวเลขจุดทศนิยม (float) / ทดลองเปลี่ยน float เป็น int\n",
        "\n",
        "total = midterm + final       # ตัวเลขจุดทศนิยม (float) + ตัวเลขจุดทศนิยม (float) -> ตัวเลขจุดทศนิยม (float)\n",
        "\n",
        "print(f\"Your score: {total}\") # ตัวเลขจุดทศนิยม (float)"
      ],
      "metadata": {
        "id": "jhRsEsi5TBEB"
      },
      "execution_count": null,
      "outputs": []
    },
    {
      "cell_type": "markdown",
      "source": [
        "### **Level 3:** ตัวดำเนินการพื้นฐาน (Basic Operators)\n",
        "\n",
        "https://www.w3schools.com/python/python_operators.asp\n",
        "\n",
        "1. ตัวดำเนินการทางคณิตศาสตร์ (Arithmetic operators): + - * / % // ** (ลำดับความสำคัญ)\n",
        "2. ตัวดำเนินการในการกำหนดค่า (Assignment operators): = += -= swap\n",
        "3. ตัวดำเนินการเปรียบเทียบ (Comparison operators): == != > < >= <=\n",
        "4. ตัวดำเนินการเชิงตรรกะ (Logical operators): and or not\n",
        "5. ตัวดำเนินการระบุตัวตน (Identity operators): is\n",
        "6. ตัวดำเนินการสมาชิก (Membership operators): in\n",
        "7. ตัวดำเนินการระดับบิต (Bitwise operators): & | ^"
      ],
      "metadata": {
        "id": "IXC2X76GTQ6Z"
      }
    },
    {
      "cell_type": "markdown",
      "source": [
        "#### **7.1 ตัวดำเนินการทางคณิตศาสตร์ (Arithmetric Operator)**\n",
        "\n",
        "* การบวก: + (Addition)\n",
        "* การลบ: -  (Subtraction)\n",
        "* การคูณ: * (Multiplication)\n",
        "* การหาร: / (Division)\n",
        "* การหาร แบบเก็บเศษ: % (Modulus)     \n",
        "* การหาร แบบเก็บจำนวนเต็ม: // (Floor Division)\n",
        "* การยกกำลัง: ** (Exponential)\n",
        "* **ลำดับความสำคัญของตัวดำเนินการ (Operator Precedence)**"
      ],
      "metadata": {
        "id": "ViJjwoqIUQw-"
      }
    },
    {
      "cell_type": "markdown",
      "source": [
        "> **ตัวเลขจำนวนเต็ม (Integer)**"
      ],
      "metadata": {
        "id": "OYQADxbJUj1D"
      }
    },
    {
      "cell_type": "code",
      "source": [
        "x = 10          # ทดลองเติมจุดทศนิยม (10.)\n",
        "y = 3\n",
        "\n",
        "print(x + y)    # การบวก (Addition)\n",
        "print(x - y)    # การลบ  (Subtraction)\n",
        "print(x * y)    # การคูณ (Multiplication)\n",
        "print(x / y)    # การหาร (Division)\n",
        "print(x % y)    # การหาร (Modulus:        แบบเก็บเศษ)      คือ 10 หาร 3 เท่ากับ 3 เศษ 1 (ผลลัพธ์คือเก็บเศษ      คือ 1)\n",
        "print(x // y)   # การหาร (Floor Division: แบบเก็บจำนวนเต็ม) คือ 10 หาร 3 เท่ากับ 3 เศษ 1 (ผลลัพธ์คือเก็บจำนวนเต็ม คือ 3)\n",
        "print(x ** y)   # การยกกำลัง (Exponential) คือ 10 ยกกำลัง 2\n",
        "\n",
        "print(1 + 2 * 3)      # ลำดับความสำคัญของตัวดำเนินการ (*) มากกว่า (+) ส่งผลต่อผลลัพธ์ คือ 7ึ\n",
        "print(1 * 2 + 3 * 4)  # ลำดับความสำคัญของตัวดำเนินการ (*) มากกว่า (+) ส่งผลต่อผลลัพธ์ คือ 14"
      ],
      "metadata": {
        "id": "Brt4-aWEUSyy"
      },
      "execution_count": null,
      "outputs": []
    },
    {
      "cell_type": "markdown",
      "source": [
        "> **ตัวเลขจำนวนจริง / มีจุดทศนิยม (Floating-Point)**"
      ],
      "metadata": {
        "id": "PGitiI0pUnGr"
      }
    },
    {
      "cell_type": "code",
      "source": [
        "x = 0.2\n",
        "y = 0.1\n",
        "\n",
        "print(f\"x = {x}\")\n",
        "print(f\"y = {y}\")\n",
        "print()\n",
        "\n",
        "print(x + y)    # การบวก (Addition)       มี Bug! เมื่อเราทำการประมวลผล ตัวเลขที่เป็น จุดทศนิยม (Floating-Point)\n",
        "print(x - y)    # การลบ  (Subtraction)\n",
        "print(x * y)    # การคูณ (Multiplication)  มี Bug! เมื่อเราทำการประมวลผล ตัวเลขที่เป็น จุดทศนิยม (Floating-Point)\n",
        "print(x / y)    # การหาร (Division)\n",
        "print(x % y)    # การหาร (Modulus:        แบบเก็บเศษ)      คือ 10 หาร 3 เท่ากับ 3 เศษ 1 (ผลลัพธ์คือเก็บเศษ     คือ 1)\n",
        "print(x // y)   # การหาร (Floor Division: แบบเก็บจำนวนเต็ม) คือ 10 หาร 3 เท่ากับ 3 เศษ 1 (ผลลัพธ์คือเก็บจำนวนเต็ม คือ 3)"
      ],
      "metadata": {
        "id": "bPqZY1fdUvik"
      },
      "execution_count": null,
      "outputs": []
    },
    {
      "cell_type": "markdown",
      "source": [
        "**การแก้ปัญหา การประมวลผล ตัวเลขที่เป็นจุดทศนิยม (Floating-Point)** <br/>\n",
        "> **แก้ปัญหากรณี 0.2 + 0.1 ไม่เท่ากับ 0.3 ด้วย function Decimal(...)**"
      ],
      "metadata": {
        "id": "GLv5ZgXbU4Rl"
      }
    },
    {
      "cell_type": "code",
      "source": [
        "from decimal import Decimal     # นำเข้า ฟังก์ชัน Decimal จาก library: decimal\n",
        "\n",
        "x = 0.2\n",
        "y = 0.1\n",
        "\n",
        "x = Decimal(str(x))             # ทดลองเอาฟังก์ชัน str(...) ออก\n",
        "y = Decimal(str(y))             # ทดลองเอาฟังก์ชัน str(...) ออก\n",
        "\n",
        "print(f\"x = {x}\")\n",
        "print(f\"y = {y}\")\n",
        "print(\"**********\")\n",
        "\n",
        "print(x + y)    # การบวก (Addition)       มี Bug! เมื่อเราทำการประมวลผล ตัวเลขที่เป็น จุดทศนิยม (Floating-Point)\n",
        "print(x - y)    # การลบ  (Subtraction)\n",
        "print(x * y)    # การคูณ (Multiplication)  มี Bug! เมื่อเราทำการประมวลผล ตัวเลขที่เป็น จุดทศนิยม (Floating-Point)\n",
        "print(x / y)    # การหาร (Division)\n",
        "print(x % y)    # การหาร (Modulus:        แบบเก็บเศษ)      คือ 10 หาร 3 เท่ากับ 3 เศษ 1 (ผลลัพธ์คือเก็บเศษ     คือ 1)\n",
        "print(x // y)   # การหาร (Floor Division: แบบเก็บจำนวนเต็ม) คือ 10 หาร 3 เท่ากับ 3 เศษ 1 (ผลลัพธ์คือเก็บจำนวนเต็ม คือ 3)"
      ],
      "metadata": {
        "id": "N_QC2U4LU6VO"
      },
      "execution_count": null,
      "outputs": []
    },
    {
      "cell_type": "markdown",
      "source": [
        "**ลำดับความสำคัญของตัวดำเนินการ (Operator Precedence)**\n",
        "\n",
        "<table>\n",
        "  <tr>\n",
        "    <th>ลำดับความสำคัญ</th>\n",
        "    <th>ตัวดำเนินการ</th>\n",
        "    <th>คำอธิบาย</th>\n",
        "  </tr>\n",
        "  <tr>\n",
        "    <td>1</td>\n",
        "    <td>( )</td>\n",
        "    <td>วงเล็บ</td>\n",
        "  </tr>\n",
        "  <tr>\n",
        "    <td>2</td>\n",
        "    <td>**</td>\n",
        "    <td>ยกกำลัง</td>\n",
        "  </tr>  \n",
        "  <tr>\n",
        "    <td>3</td>\n",
        "    <td>-x</td>\n",
        "    <td>เครื่องหมาย - (ตัวเลขติดลบ) </td>\n",
        "  </tr>\n",
        "  <tr>\n",
        "    <td>4</td>\n",
        "    <td>*,  /,  //,  %</td>\n",
        "    <td>คูณ, หาร, หารเก็บจำนวนเต็ม, หารเก็บเศษ</td>\n",
        "  </tr>    \n",
        "  <tr>\n",
        "    <td>5</td>\n",
        "    <td>+, -</td>\n",
        "    <td>บวก, ลบ</td>\n",
        "  </tr>\n",
        "  <tr>\n",
        "    <td>6</td>\n",
        "    <td><<, >> </td>\n",
        "    <td>bitwise shift ซ้าย, ขวา</td>\n",
        "  </tr>   \n",
        "  <tr>\n",
        "    <td>7</td>\n",
        "    <td> & </td>\n",
        "    <td> bitwise AND</td>\n",
        "  </tr>\n",
        "  <tr>\n",
        "    <td>8</td>\n",
        "    <td> ^ </td>\n",
        "    <td> bitwise XOR</td>\n",
        "  </tr>  \n",
        "  <tr>\n",
        "    <td>9</td>\n",
        "    <td> | </td>\n",
        "    <td> bitwise OR </td>\n",
        "  </tr>\n",
        "  <tr>\n",
        "    <td>10</td>\n",
        "    <td>==, !=, >, <=, <, <=, is, is not, in, not in</td>\n",
        "    <td> การเปรียบเทียบ, ระบุตัวตน, การเป็นสมาชิก </td>\n",
        "  </tr>    \n",
        "  <tr>\n",
        "    <td>11</td>\n",
        "    <td> not </td>\n",
        "    <td> ไม่ </td>\n",
        "  </tr>\n",
        "  <tr>\n",
        "    <td>12</td>\n",
        "    <td> and </td>\n",
        "    <td> และ </td>\n",
        "  </tr>  \n",
        "  <tr>\n",
        "    <td>13</td>\n",
        "    <td> or </td>\n",
        "    <td> หรือ </td>\n",
        "  </tr>\n",
        "\n",
        "</table>"
      ],
      "metadata": {
        "id": "a_1RXC8BkT8o"
      }
    },
    {
      "cell_type": "code",
      "source": [
        "x = 1 + 2 * 3           # x เท่ากับเท่าไหร่? (7)\n",
        "y = 1 * 2 + 3           # y เท่ากับเท่าไหร่? (5)\n",
        "z = 1 + 2 * 3 + 4       # z เท่ากับเท่าไหร่? (11)\n",
        "\n",
        "print(x, y, z)\n",
        "\n",
        "x = (1 + 2) * 3         # x เท่ากับเท่าไหร่? (9)\n",
        "y = 1 * (2 + 3)         # y เท่ากับเท่าไหร่? (5)\n",
        "z = (1 + 2) * (3 + 4)   # z เท่ากับเท่าไหร่? (21)\n",
        "\n",
        "print(x, y, z)"
      ],
      "metadata": {
        "id": "GuyU0vMDVVRU"
      },
      "execution_count": null,
      "outputs": []
    },
    {
      "cell_type": "markdown",
      "source": [
        "#### **7.2 ตัวดำเนินการในการกำหนดค่า (Assignment operators)**"
      ],
      "metadata": {
        "id": "eRyKTNTSVUe7"
      }
    },
    {
      "cell_type": "code",
      "source": [
        "x = 10          # กำหนดให้ x มีค่าเท่ากับ 10\n",
        "\n",
        "x = x + 1       # เพิ่มค่า x อีก 1\n",
        "\n",
        "print(x)"
      ],
      "metadata": {
        "id": "in9NaTjkWfqJ"
      },
      "execution_count": null,
      "outputs": []
    },
    {
      "cell_type": "code",
      "source": [
        "x = 10          # ทดลองเติมจุดทศนิยม (10.)\n",
        "\n",
        "x += 1          # มีความหมายเหมือนกับ x = x + 1 (สามารถใช้ ตัวดำเนินการทางคณิตศาสตร์ (Arithmetric Operator) แทนเครื่องหมาย '+' ได้)\n",
        "\n",
        "print(x)"
      ],
      "metadata": {
        "id": "KDzc4sjiWgc7"
      },
      "execution_count": null,
      "outputs": []
    },
    {
      "cell_type": "markdown",
      "source": [
        "> **การสลับค่าตัวแปร (swap):** ให้นึกถึงการที่เราจะสลับน้ำแดง (x) และน้ำเขียว (y) เราต้องมีแก้วเปล่า (temp) มาช่วยในการสลับ"
      ],
      "metadata": {
        "id": "7nbWKDRTVUhv"
      }
    },
    {
      "cell_type": "code",
      "source": [
        "x = 10\n",
        "y = 20\n",
        "\n",
        "temp = x    # เก็บค่าของตัวแปร    x ไว้ในตัวแปรชั่วคราว (temp)\n",
        "x = y       # กำหนดค่าของตัวแปร x เท่ากับค่าตัวแปร y\n",
        "y = temp    # กำหนดค่าของตัวแปร y เท่ากับค่า x ที่จัดเก็บไว้ในตัวแปรชั่วคราว (temp)\n",
        "\n",
        "print(f\"x = {x}\")\n",
        "print(f\"y = {y}\")"
      ],
      "metadata": {
        "id": "j_K3esDLWqaw"
      },
      "execution_count": null,
      "outputs": []
    },
    {
      "cell_type": "code",
      "source": [
        "# การสลับค่าตัวแปร (swap): ให้นึกถึงการที่เราจะสลับน้ำแดง (a) และน้ำเขียว (b) แบบฉบับ Python\n",
        "\n",
        "a = 10\n",
        "b = 20\n",
        "\n",
        "a, b = b, a         # สลับค่าตัวแปร (swap) แบบง่าย\n",
        "\n",
        "print(f\"a = {a}\")\n",
        "print(f\"b = {b}\")"
      ],
      "metadata": {
        "id": "mHkmARq2WuF7"
      },
      "execution_count": null,
      "outputs": []
    },
    {
      "cell_type": "markdown",
      "source": [
        "#### **7.3 ตัวดำเนินการเปรียบเทียบ (Comparison operators)**"
      ],
      "metadata": {
        "id": "bR6uhJCBWcTw"
      }
    },
    {
      "cell_type": "markdown",
      "source": [
        "> **เปรียบเทียบจำนวนเต็ม (Integer)**"
      ],
      "metadata": {
        "id": "rYTeNWnlWcXO"
      }
    },
    {
      "cell_type": "code",
      "source": [
        "x = 1\n",
        "y = 2\n",
        "z = 3\n",
        "\n",
        "print(x == x)       # 1     มีค่าเท่ากับ 1 ใช่หรือไม่? (True)\n",
        "print(x == y)       # 1     มีค่าเท่ากับ 2 ใช่หรือไม่? (False)\n",
        "print(x + y == z)   # 1 + 2 มีค่าเท่ากับ 3 ใช่หรือไม่? (True)\n",
        "print(\"-------------\")\n",
        "\n",
        "print(x != x)       # 1     มีค่าไม่เท่ากับ 1 ใช่หรือไม่? (False)\n",
        "print(x != y)       # 1     มีค่าไม่เท่ากับ 2 ใช่หรือไม่? (True)\n",
        "print(x + y != z)   # 1 + 2 มีค่าไม่เท่ากับ 3 ใช่หรือไม่? (False)\n",
        "print(\"-------------\")\n",
        "\n",
        "print(x > y)        # 1     มีค่ามากกว่า 2 ใช่หรือไม่? (False)\n",
        "print(x < y)        # 1     มีค่าน้อยกว่า 2 ใช่หรือไม่? (True)\n",
        "print(x + y < z)    # 1 + 2 มีค่าน้อยกว่า 3 ใช่หรือไม่? (False)\n",
        "print(\"-------------\")\n",
        "\n",
        "print(x >= y)       # 1     มีค่ามากกว่าหรือเท่ากับ 2 ใช่หรือไม่? (False)\n",
        "print(x <= y)       # 1     มีค่าน้อยกว่าหรือเท่ากับ 2 ใช่หรือไม่? (True)\n",
        "print(x + y <= z)   # 1 + 2 มีค่าน้อยกว่าหรือเท่ากับ 3 ใช่หรือไม่? (True)\n",
        "print(x + y >= z)   # 1 + 2 มีค่ามากกว่าหรือเท่ากับ 3 ใช่หรือไม่? (True)"
      ],
      "metadata": {
        "id": "z5Iw443Ae-NY"
      },
      "execution_count": null,
      "outputs": []
    },
    {
      "cell_type": "markdown",
      "source": [
        "> **เปรียบเทียบจำนวนจริง / จุดทศนิยม (Floating-Point)**"
      ],
      "metadata": {
        "id": "aJ5rCIJ7XKp5"
      }
    },
    {
      "cell_type": "code",
      "source": [
        "x = 0.1\n",
        "y = 0.2\n",
        "z = 0.3\n",
        "\n",
        "print(x == x)       # 0.1       มีค่าเท่ากับ 0.1 ใช่หรือไม่? (True)\n",
        "print(x == y)       # 0.1       มีค่าเท่ากับ 0.2 ใช่หรือไม่? (False)\n",
        "print(x + y == z)   # 0.1 + 0.2 มีค่าเท่ากับ 0.3 ใช่หรือไม่? (False) ทำไม 0.1 + 0.2 จึงไม่เท่ากับ 0.3\n",
        "print(\"--------------------------------\")\n",
        "\n",
        "print(0.1 + 0.2)\n",
        "print(x + y)\n",
        "print(\"--------------------------------\")\n",
        "\n",
        "from decimal import Decimal     # นำเข้า ฟังก์ชัน Decimal จาก library: decimal\n",
        "\n",
        "x1 = Decimal(x)       # แปลง x -> x1 ด้วย Decimal(...)\n",
        "y1 = Decimal(y)       # แปลง y -> y1 ด้วย Decimal(...)\n",
        "\n",
        "print(x1 + y1)\n",
        "print(\"--------------------------------\")\n",
        "\n",
        "x2 = Decimal(str(x))  # แปลง x -> x2 ด้วย Decimal(str(...))\n",
        "y2 = Decimal(str(y))  # แปลง y -> y2 ด้วย Decimal(str(...))\n",
        "\n",
        "print(x2 + y2)\n",
        "print(\"--------------------------------\")\n",
        "\n",
        "print(x2 + y2 == z)   # 0.1 + 0.2 มีค่าเท่ากับ 0.3 ใช่หรือไม่? (False) ทำไม 0.1 + 0.2 จึงไม่เท่ากับ 0.3\n",
        "print(f\"x2 is {type(x2)}\")    # ตรวจสอบชนิดของตัวแปร x2\n",
        "print(f\"y2 is {type(y2)}\")    # ตรวจสอบชนิดของตัวแปร y2\n",
        "print(f\"z  is {type(z)}\")     # ตรวจสอบชนิดของตัวแปร z\n",
        "print(\"--------------------------------\")\n"
      ],
      "metadata": {
        "id": "XAMu23X1CQrF"
      },
      "execution_count": null,
      "outputs": []
    },
    {
      "cell_type": "markdown",
      "source": [
        "> **แก้ปัญหา 0.1 + 0.2 ไม่เท่ากับ 0.3 ด้วยการทำ Type Casting: function Decimal(...)**"
      ],
      "metadata": {
        "id": "1KYtL1t-XlnY"
      }
    },
    {
      "cell_type": "code",
      "source": [
        "x = 0.1\n",
        "y = 0.2\n",
        "z = 0.3\n",
        "\n",
        "from decimal import Decimal   # นำเข้า ฟังก์ชัน Decimal จาก library: decimal\n",
        "\n",
        "x3 = Decimal(str(x))          # แปลง x -> x3 ด้วย Decimal(str(...))\n",
        "y3 = Decimal(str(y))          # แปลง y -> y3 ด้วย Decimal(str(...))\n",
        "z3 = Decimal(str(z))          # แปลง z -> z3 ด้วย Decimal(str(...))\n",
        "\n",
        "print(x3 + y3 == z3)          # 0.1 + 0.2 มีค่าเท่ากับ 0.3 ใช่หรือไม่?\n",
        "print(f\"x3 is {type(x3)}\")    # ตรวจสอบชนิดของตัวแปร x3\n",
        "print(f\"y3 is {type(y3)}\")    # ตรวจสอบชนิดของตัวแปร y3\n",
        "print(f\"z3 is {type(z3)}\")    # ตรวจสอบชนิดของตัวแปร z3"
      ],
      "metadata": {
        "id": "d9z1pyEKlTnv"
      },
      "execution_count": null,
      "outputs": []
    },
    {
      "cell_type": "markdown",
      "source": [
        "#### **7.4 ตัวดำเนินการเชิงตรรกะ (Logical operators)**\n",
        "> ใช้ในการ**ตรวจสอบเงื่อนไขที่เรากำหนดไว้ว่า** **เป็นจริง (True) หรือเท็จ (False)**\n",
        "\n",
        "*  **และ (and):** จะ**เป็นจริง (True)** ก็ต่อเมื่อ **ทุกเงื่อนไขเป็นจริง (All True)**\n",
        "*  **หรือ (or):**  จะ**เป็นเท็จ (False)** ก็ต่อเมื่อ **ทุกเงื่อนไขเป็นเท็จ (All False)**\n",
        "*  **ไม่  (not):** จะส่งค่า**ตรงข้าม**กับความเป็นจริง"
      ],
      "metadata": {
        "id": "Q4d-NQ58Xxmf"
      }
    },
    {
      "cell_type": "code",
      "source": [
        "print(\"----------\")\n",
        "print(\"x and y\")\n",
        "print(\"----------\")\n",
        "print(True and True)      # จริง และ จริง -> จริง (True)\n",
        "print(True and False)     # จริง และ เท็จ -> เท็จ (False)\n",
        "print(False and True)     # เท็จ และ จริง -> เท็จ (False)\n",
        "print(False and False)    # เท็จ และ เท็จ -> เท็จ (False)\n",
        "print(\"----------\")\n",
        "\n",
        "print(\"x or y\")\n",
        "print(\"----------\")\n",
        "print(True or True)       # จริง หรือ จริง -> จริง (True)\n",
        "print(True or False)      # จริง หรือ เท็จ -> จริง (True)\n",
        "print(False or True)      # เท็จ หรือ จริง -> จริง (True)\n",
        "print(False or False)     # เท็จ หรือ เท็จ -> เท็จ (False)\n",
        "print(\"----------\")\n",
        "\n",
        "print(\"not True\")\n",
        "print(\"----------\")\n",
        "print(not True)           # ไม่จริง -> เท็จ (False)"
      ],
      "metadata": {
        "id": "t7TARUXPCbjg"
      },
      "execution_count": null,
      "outputs": []
    },
    {
      "cell_type": "markdown",
      "source": [
        "#### **7.5 ตัวดำเนินการระบุตัวตน (Identity operators): is**\n",
        "> **is** ใช้ในการตรวจสอบว่า ตัวแปร **เป็นวัตถุชนิดเดียวกัน (ที่อยู่ใน Address เดียวกันในหน่วยความจำ)** ใช่ หรือไม่?"
      ],
      "metadata": {
        "id": "P7A4ACllcKbj"
      }
    },
    {
      "cell_type": "code",
      "source": [
        "x = [1, 2, 3]     # ประกาศให้ x เก็บสมาชิก [1, 2, 3]\n",
        "y = [1, 2, 3]     # ประกาศให้ y เก็บสมาชิก [1, 2, 3]\n",
        "z = x             # ประกาศให้ z ใช้ที่อยู่ใน Address เดียวกับ x (ดังนั้น x กับ z ก็คือวัตถุเดียวกัน)\n",
        "\n",
        "print(x ? y)      # is (False)\n",
        "print(x ? z)      # is (True)"
      ],
      "metadata": {
        "id": "axViprprCgWA"
      },
      "execution_count": null,
      "outputs": []
    },
    {
      "cell_type": "markdown",
      "source": [
        "> ข้อควรระวังในการที่ตัวแปร ใช้ที่อยู่ใน Address เดียวกัน"
      ],
      "metadata": {
        "id": "CMQvawRwiYuw"
      }
    },
    {
      "cell_type": "code",
      "source": [
        "x = [1, 2, 3]     # ประกาศให้ x เก็บสมาชิก [1, 2, 3]\n",
        "y = [1, 2, 3]     # ประกาศให้ y เก็บสมาชิก [1, 2, 3]\n",
        "z = x             # ประกาศให้ z ใช้ที่อยู่ใน Address เดียวกับ x (ดังนั้น x กับ z ก็คือวัตถุเดียวกัน)\n",
        "\n",
        "x = x.?(4)        # ทำการเพิ่ม 4 เข้าไปใน x -> [1, 2, 3, 4] .append(...)\n",
        "\n",
        "print(z)          # ค่าสมาชิกของ z จะเปลี่ยนตาม x ที่มีการเปลี่ยนแปลงด้วย (เพราะว่าใช้หน่วยความจำตำแหน่งเดียวกัน)"
      ],
      "metadata": {
        "id": "hayb7xGMhqpy"
      },
      "execution_count": null,
      "outputs": []
    },
    {
      "cell_type": "markdown",
      "source": [
        "#### **7.6 ตัวดำเนินการสมาชิก (Membership operators): in**\n",
        "> **in** ใช้ในการตรวจสอบว่า **มีสมาชิก อยู่ในรายการที่เราสนใจหรือไม่?**"
      ],
      "metadata": {
        "id": "_HlhHL4ACg94"
      }
    },
    {
      "cell_type": "code",
      "source": [
        "fruits = ['apple', 'banana', 'cherry']\n",
        "\n",
        "print('banana' in fruits)       # กล้วย (banana) เป็นสมาชิกของ ผลไม้ (fruits) ใช่หรือไม่? (in)\n",
        "print('orange' not in fruits)   # ส้ม (orange) ไม่เป็นสมาชิกของ ผลไม้ (fruits) ใช่หรือไม่? (not in)"
      ],
      "metadata": {
        "id": "ZbfjsY0vCjsF"
      },
      "execution_count": null,
      "outputs": []
    },
    {
      "cell_type": "markdown",
      "source": [
        "### **Level 4:** โครงสร้างข้อมูล (Data Structures)"
      ],
      "metadata": {
        "id": "fzRQxaJwiDYO"
      }
    },
    {
      "cell_type": "markdown",
      "source": [
        "\n",
        "> ใช้**เก็บข้อมูลที่มีลักษณะเป็นกลุ่ม (Collection)** ที่**สามารถวนซ้ำ (Iterable) เพื่อจัดการข้อมูลได้**\n",
        "\n",
        "<table>\n",
        "  <tr>\n",
        "    <th>รูปแบบการจัดเก็บ (Collection)</th>\n",
        "    <th>เรียงลำดับตามการจัดเก็บ (Order)</th>\n",
        "    <th>แก้ไขได้ (Mutable)</th>\n",
        "    <th>อ้างอิงผ่านดัชนี (Indexed)</th>\n",
        "    <th>มีค่าซ้ำกัน (Duplicated)</th>    \n",
        "    <th>ตัวอย่าง (Example)</th>    \n",
        "  </tr>\n",
        "  <tr>\n",
        "    <td>8.1 ลิสต์ (List)</td>\n",
        "    <td>เรียงลำดับ (Order)</td>\n",
        "    <td>แก้ไขได้ (Mutable)</td>\n",
        "    <td>ใช้ดัชนี (Indexed)</td>\n",
        "    <td>มีค่าซ้ำได้ (Duplicated)</td>\n",
        "    <td>fruits = ['apple', 'banana', 'cherry']</td>\n",
        "  </tr>\n",
        "  <tr>\n",
        "    <td>8.2 ทูเพิล (Tuple)</td>\n",
        "    <td>เรียงลำดับ (Order)</td>\n",
        "    <td>แก้ไขไม่ได้ (Immutable)</td>\n",
        "    <td>ใช้ดัชนี (Indexed)</td>\n",
        "    <td>มีค่าซ้ำได้ (Duplicated)</td>\n",
        "    <td>fruits = ('apple', 'banana', 'cherry')</td>\n",
        "  </tr>  \n",
        "  <tr>\n",
        "    <td>8.3 เซต (Set)</td>\n",
        "    <td>ไม่เรียงลำดับ (UnOrder)</td>\n",
        "    <td>แก้ไขไม่ได้ (Immutable)</td>\n",
        "    <td>ไม่ใช้ดัชนี (UnIndexed)</td>\n",
        "    <td>ไม่มีค่าซ้ำ (No Duplicated)</td>\n",
        "    <td>fruits = {'apple', 'banana', 'cherry'}</td>\n",
        "  </tr>    \n",
        "  <tr>\n",
        "    <td>8.4 พจนานุกรม (Dictionary)</td>\n",
        "    <td>เรียงลำดับ (Order)</td>\n",
        "    <td>แก้ไขได้ (Mutable)</td>\n",
        "    <td>ใช้คีย์ (Key-Valued)</td>\n",
        "    <td>มีค่าคีย์ซ้ำไม่ได้ (No Key Duplicated)</td>\n",
        "    <td>fruits = {'apple': 5, 'banana': 12, 'cherry': 20}</td>\n",
        "  </tr>    \n",
        "</table>\n",
        "\n",
        "\n"
      ],
      "metadata": {
        "id": "S7m4jD89Hbw3"
      }
    },
    {
      "cell_type": "code",
      "source": [],
      "metadata": {
        "id": "FMLRQ0ASWdRy"
      },
      "execution_count": null,
      "outputs": []
    },
    {
      "cell_type": "markdown",
      "source": [
        "#### **8.1 ลิสต์ (List): จัดเก็บข้อมูลตามลำดับ (Sequence)** *สามารถแก้ไข* ค่าได้ภายหลังจากสร้างเสร็จแล้ว (Mutable)\n",
        "\n",
        "<table>\n",
        "  <tr>\n",
        "    <td>index => </td>\n",
        "    <td>[0]</td>\n",
        "    <td>[1]</td>\n",
        "    <td>[2]</td>\n",
        "    <td></td>\n",
        "  </tr>\n",
        "  <tr>\n",
        "    <td></td>\n",
        "    <td>apple</td>\n",
        "    <td>banana</td>\n",
        "    <td>cherry</td>\n",
        "  </tr>\n",
        "    <td></td>\n",
        "    <td>[-3]</td>\n",
        "    <td>[-2]</td>\n",
        "    <td>[-1]</td>\n",
        "    <td> <= index</td>    \n",
        "  </tr>    \n",
        "</table>\n",
        "\n",
        "* การอ้างอิงข้อมูลในลิสต์ (List)จะใช้เครื่องหมาย '[ index ]' พร้อมระบุตำแหน่งของสมาชิกในลิสต์ สามารถรองรับสมาชิกที่มีข้อมูลชนิดเดียวกัน และต่างชนิดกันได้ <br/>\n",
        "\n",
        "\n",
        "\n",
        "```\n",
        "    items = [1, 2, 3, 4.9]                  # ข้อมูลตัวเลข (Number)\n",
        "    fruits = ['apple', 'banana', 'cherry']  # ข้อมูลตัวอักษร (String)\n",
        "    mixed = [10, '20', 30]                  # ข้อมูลทั้งตัวอักษร(String) และตัวเลข (Number)\n",
        "```\n",
        "\n",
        "\n",
        "\n",
        "* สมาชิกตัวแรก (ซ้าย->ขวา) คือ index =  0,  1,  2 หรือ\n",
        "* สมาชิกตัวแรก (ขวา->ซ้าย) คือ index = -1, -2, -3"
      ],
      "metadata": {
        "id": "fEdZ5-oTlGU-"
      }
    },
    {
      "cell_type": "code",
      "source": [
        "fruits = ['apple', 'banana', 'cherry']    # index นับจากซ้าย -> ขวา [0, 1, 2] หรือ index นับจากขวา -> ซ้าย [-3, -2, -1]\n",
        "\n",
        "print(fruits[?])    # สมาชิกใน index = 0 (apple)\n",
        "print(fruits[1])    # สมาชิกใน index = 1 (banana)\n",
        "print(fruits[2])    # สมาชิกใน index = 2 (cherry)\n",
        "print(\"---------\")\n",
        "\n",
        "print(fruits[?])    # สมาชิกในตำแหน่งท้ายสุด       index = -1 (cherry)\n",
        "print(fruits[-2])   # สมาชิกในตำแหน่งรองท้ายสุด    index = -2 (banana)\n",
        "print(fruits[-3])   # สมาชิกในตำแหน่งก่อนรองท้ายสุด index = -3 (apple)\n"
      ],
      "metadata": {
        "id": "7M8wSas6a7q3"
      },
      "execution_count": null,
      "outputs": []
    },
    {
      "cell_type": "markdown",
      "source": [
        "> **การจัดการสมาชิกที่อยู่ในลิสต์**\n",
        "* .append(...) ต่อท้ายลิสต์ (List)\n",
        "* การแก้ไข ค่าสมาชิกในตำแหน่ง (index) ที่ต้องการด้วย [index]\n",
        "* .remove(...) การลบสมาชิก\n",
        "* .insert(...) การแทรกสมาชิก"
      ],
      "metadata": {
        "id": "UCV8IX9Zudxz"
      }
    },
    {
      "cell_type": "code",
      "source": [
        "fruits = ['apple', 'banana', 'cherry']\n",
        "\n",
        "fruits.?('orange')          # เพิ่มสมาชิกต่อท้ายลิสต์ ด้วยฟังก์ชัน .append(...)\n",
        "print(fruits)\n",
        "print(\"---------------------------------------\")\n",
        "\n",
        "fruits[?] = 'durian'        # แทนที่สมาชิกในตำแหน่งที่ 4 ('orange') ด้วย 'durian'\n",
        "print(fruits)\n",
        "print(\"---------------------------------------\")\n",
        "\n",
        "fruits.?('cherry')          # ลบ 'cherry' ออกจาก fruits ด้วยฟังก์ชัน .remove(...)\n",
        "print(fruits)\n",
        "print(\"---------------------------------------\")\n",
        "\n",
        "fruits.insert(?, 'mango')   # แทรก 'mango' ไว้ก่อนหน้า 'durian' ด้วยฟังก์ชัน .insert(...)\n",
        "print(fruits)\n"
      ],
      "metadata": {
        "id": "o-P6xQlNuodR"
      },
      "execution_count": null,
      "outputs": []
    },
    {
      "cell_type": "markdown",
      "source": [
        "**การนำสมาชิกในลิสต์ (List) มาเชื่อมต่อกัน ด้วยฟังก์ชัน extend(...)**"
      ],
      "metadata": {
        "id": "F5FKl_jgiqdZ"
      }
    },
    {
      "cell_type": "code",
      "source": [
        "fruits = ['apple', 'banana', 'cherry']    # ลิสต์ 1 (List)\n",
        "tropical = ['papaya', 'pine apple']       # ลิสต์ 2 (List)\n",
        "\n",
        "fruits.?(tropical)                   # เอาลิสต์ 1 มาต่อท้ายด้วย ลิสต์ 2 ด้วยฟังก์ชัน .extend(...)\n",
        "print(fruits)"
      ],
      "metadata": {
        "colab": {
          "base_uri": "https://localhost:8080/"
        },
        "id": "EZkOtIE-inBF",
        "outputId": "2c9850d0-3a5b-4ec6-9295-6363fd3bc18b"
      },
      "execution_count": null,
      "outputs": [
        {
          "output_type": "stream",
          "name": "stdout",
          "text": [
            "['apple', 'banana', 'cherry', 'papaya', 'pine apple']\n"
          ]
        }
      ]
    },
    {
      "cell_type": "markdown",
      "source": [
        "**ลิสต์ที่มีขนาด 1 มิติ (1D-Array / Vector)**"
      ],
      "metadata": {
        "id": "1Dv3EeqIkOIM"
      }
    },
    {
      "cell_type": "code",
      "source": [
        "items = [10, 20, 30, 40]\n",
        "\n",
        "print(items[0])                 # อาร์เรย์ ตำแหน่งที่ 0  (10)\n",
        "print(items[1])                 # อาร์เรย์ ตำแหน่งที่ 1  (20)\n",
        "print(items[2])                 # อาร์เรย์ ตำแหน่งที่ 2  (30)\n",
        "print(items[3])                 # อาร์เรย์ ตำแหน่งที่ 3  (40)\n",
        "print(\"----------------\")\n",
        "\n",
        "print(items[-1])                # อาร์เรย์ ตำแหน่งที่ -1 (40)\n",
        "print(items[-2])                # อาร์เรย์ ตำแหน่งที่ -2 (30)\n",
        "print(items[-3])                # อาร์เรย์ ตำแหน่งที่ -3 (20)\n",
        "print(items[-4])                # อาร์เรย์ ตำแหน่งที่ -4 (10)\n",
        "print(\"----------------\")\n",
        "\n",
        "print(items[1:?])               # อาร์เรย์ ตำแหน่งที่ 1 ถึง (2-1)\n",
        "print(items[1:?])               # อาร์เรย์ ตำแหน่งที่ 1 ถึง (3-1)\n",
        "print(\"----------------\")\n",
        "\n",
        "print(items)                    # แสดงข้อมูลตามปกติ\n",
        "print(items[::?])               # แสดงข้อมูลย้อนกลับจากหลัง -> หน้า [start:stop:step]"
      ],
      "metadata": {
        "id": "uRKGeIlCkT8C"
      },
      "execution_count": null,
      "outputs": []
    },
    {
      "cell_type": "markdown",
      "source": [
        "**ลิสต์ที่มีขนาด 2 มิติ (2D-Array / Matrix)**"
      ],
      "metadata": {
        "id": "X-zwLW6MjIff"
      }
    },
    {
      "cell_type": "code",
      "source": [
        "items = [[10, 20, 30], [40, 50, 60]]    # อาร์เรย์ 2 มิติ ขนาด 3x3\n",
        "\n",
        "print(items[0][0])                      # อาร์เรย์ แถวที่ 0 คอลัมน์ 0 (10)\n",
        "print(items[0][1])                      # อาร์เรย์ แถวที่ 0 คอลัมน์ 1 (20)\n",
        "print(items[0][2])                      # อาร์เรย์ แถวที่ 0 คอลัมน์ 2 (30)\n",
        "print(items[1][0])                      # อาร์เรย์ แถวที่ 1 คอลัมน์ 0 (40)\n",
        "print(items[1][1])                      # อาร์เรย์ แถวที่ 1 คอลัมน์ 1 (50)\n",
        "print(items[1][2])                      # อาร์เรย์ แถวที่ 1 คอลัมน์ 2 (60)\n",
        "print(\"----------------\")\n",
        "\n",
        "print(items[:][?])                      # อาร์เรย์ แถวที่ 0 ทั้งหมด [10, 20, 30]\n",
        "print(items[?][1:3])                    # อาร์เรย์ แถวที่ 0 คอลัมน์ 1 ถึง (3-1)\n",
        "print(items[?][0:2])                    # อาร์เรย์ แถวที่ 1 คอลัมน์ 0 ถึง (2-1)"
      ],
      "metadata": {
        "id": "xpoyFpvljZUH"
      },
      "execution_count": null,
      "outputs": []
    },
    {
      "cell_type": "markdown",
      "source": [
        "#### **8.2 ทูเพิล      (Tuples): จัดเก็บข้อมูลตามลำดับ (Sequence)** *ไม่สามารถแก้ไข* ค่าได้ภายหลังจากสร้างเสร็จแล้ว (Immutable)\n",
        "\n",
        "<table>\n",
        "  <tr>\n",
        "    <td>index => </td>\n",
        "    <td>[0]</td>\n",
        "    <td>[1]</td>\n",
        "    <td>[2]</td>\n",
        "    <td></td>\n",
        "  </tr>\n",
        "  <tr>\n",
        "    <td></td>\n",
        "    <td>apple</td>\n",
        "    <td>banana</td>\n",
        "    <td>cherry</td>\n",
        "  </tr>\n",
        "    <td></td>\n",
        "    <td>[-3]</td>\n",
        "    <td>[-2]</td>\n",
        "    <td>[-1]</td>\n",
        "    <td> <= index</td>    \n",
        "  </tr>    \n",
        "</table>\n",
        "\n",
        "* การอ้างอิงข้อมูลในทูเพิล (Tuple)จะใช้เครื่องหมาย '[ index ]' พร้อมระบุตำแหน่งของสมาชิกในทูเพิล สามารถรองรับสมาชิกที่มีข้อมูลชนิดเดียวกัน และต่างชนิดกันได้ <br/>\n",
        "\n",
        "\n",
        "\n",
        "```\n",
        "    items = (1, 2, 3, 4.9)                  # ข้อมูลตัวเลข (Number)\n",
        "    fruits = ('apple', 'banana', 'cherry')  # ข้อมูลตัวอักษร (String)\n",
        "    mixed = ('John', 'Doe', 20)             # ข้อมูลทั้งตัวอักษร(String) และตัวเลข (Number)\n",
        "```\n",
        "\n",
        "\n",
        "\n",
        "* สมาชิกตัวแรก (ซ้าย->ขวา) คือ index =  0,  1,  2 หรือ\n",
        "* สมาชิกตัวแรก (ขวา->ซ้าย) คือ index = -1, -2, -3"
      ],
      "metadata": {
        "id": "bpHTFnrTmpv8"
      }
    },
    {
      "cell_type": "code",
      "source": [
        "fruits = ('apple', 'banana', 'cherry')  # ข้อมูลตัวอักษร (String)\n",
        "\n",
        "print(fruits[0])    # สมาชิกใน index = 0 (apple)\n",
        "print(fruits[1])    # สมาชิกใน index = 1 (banana)\n",
        "print(fruits[2])    # สมาชิกใน index = 2 (cherry)\n",
        "print(\"---------\")\n",
        "\n",
        "print(fruits[-1])   # สมาชิกในตำแหน่งท้ายสุด       index = -1 (cherry)\n",
        "print(fruits[-2])   # สมาชิกในตำแหน่งรองท้ายสุด    index = -2 (banana)\n",
        "print(fruits[-3])   # สมาชิกในตำแหน่งก่อนรองท้ายสุด index = -3 (apple)"
      ],
      "metadata": {
        "id": "SBk7vFxpnChO"
      },
      "execution_count": null,
      "outputs": []
    },
    {
      "cell_type": "code",
      "source": [
        "fruits = ('apple', 'banana', 'cherry')\n",
        "\n",
        "# fruits.append('orange')     # ไม่สามารถ เพิ่มสมาชิกต่อท้ายทูเพิล ด้วยฟังก์ชัน .append(...)\n",
        "# print(fruits)\n",
        "# print(\"---------------------------------------\")\n",
        "\n",
        "# fruits[3] = 'durian'        # ไม่สามารถ แทนที่สมาชิกในตำแหน่งที่ 4 ('orange') ด้วย 'durian'\n",
        "# print(fruits)\n",
        "# print(\"---------------------------------------\")\n",
        "\n",
        "# fruits.remove('cherry')     # ไม่สามารถ ลบ 'cherry' ออกจาก fruits ด้วยฟังก์ชัน .remove(...)\n",
        "# print(fruits)\n",
        "# print(\"---------------------------------------\")\n",
        "\n",
        "# fruits.insert(2, 'mango')   # ไม่สามารถ แทรก 'mango' ไว้ก่อนหน้า 'durian' ด้วยฟังก์ชัน .insert(...)\n",
        "# print(fruits)"
      ],
      "metadata": {
        "id": "mTOsuWplp1RB"
      },
      "execution_count": null,
      "outputs": []
    },
    {
      "cell_type": "markdown",
      "source": [
        "#### **8.3 เซต       (Set): จัดเก็บข้อมูลที่ไม่ซ้ำ** โดยข้อมูลจะ**ไม่เรียงตามลำดับ (UnOrder)** *ไม่สามารถแก้ไข* ค่าได้ภายหลังจากสร้างเสร็จแล้ว (Mutable)\n",
        "\n",
        "```\n",
        "    items = {1, 2, 3, 4.9}                  # ข้อมูลตัวเลข (Number)\n",
        "    fruits = {'apple', 'banana', 'cherry'}  # ข้อมูลตัวอักษร (String)\n",
        "    mixed = {'John', 'Doe', 20}             # ข้อมูลทั้งตัวอักษร(String) และตัวเลข (Number)\n",
        "```"
      ],
      "metadata": {
        "id": "rA3K34UJvj81"
      }
    },
    {
      "cell_type": "code",
      "source": [
        "fruits = {'apple', 'banana', 'cherry'}\n",
        "\n",
        "print(fruits)                           # เซตจะไม่สามารถใช้ดัชนี (Index) ในการเข้าถึงข้อมูลได้ เนื่องจากข้อมูลไม่เรียงตามลำดับ\n",
        "print(\"------------------------------\")\n",
        "\n",
        "items = {10, 10, 20, 30, 20}            # กรณีที่ข้อมูลซ้ำกัน {10, 10, 20, 20} เซตจะเก็บไว้เพียงค่าเดียว {10, 20}\n",
        "print(items)"
      ],
      "metadata": {
        "id": "4zZ2eiVXvt8Q"
      },
      "execution_count": null,
      "outputs": []
    },
    {
      "cell_type": "markdown",
      "source": [
        "> **การเพิ่มสมาชิกใหม่ ให้เซต (Set) ด้วยฟังก์ชัน add(...) / การลบสมาชิกด้วย remove(...)**"
      ],
      "metadata": {
        "id": "EpZ8pvBbSkN4"
      }
    },
    {
      "cell_type": "code",
      "source": [
        "fruits = {'apple', 'banana', 'cherry'}\n",
        "\n",
        "fruits.add('durian')      # เพิ่ม 'durian' เป็น สมาชิกใหม่ให้กับเซต (Set)\n",
        "\n",
        "print(fruits)\n",
        "print(\"---------------------------------------\")\n",
        "\n",
        "fruits.remove('cherry')   # ลบ 'cherry' ออกจาก fruits\n",
        "print(fruits)"
      ],
      "metadata": {
        "id": "SE88hIfqSu6b"
      },
      "execution_count": null,
      "outputs": []
    },
    {
      "cell_type": "markdown",
      "source": [
        "> **การเข้าถึงข้อมูลสมาชิกในเซต (Set) โดยใช้ Loop**"
      ],
      "metadata": {
        "id": "uMxczvYSRtHN"
      }
    },
    {
      "cell_type": "code",
      "source": [
        "fruits = {'apple', 'banana', 'cherry'}\n",
        "\n",
        "for fruit in fruits:\n",
        "  print(fruit)"
      ],
      "metadata": {
        "id": "OyaVBWR8R5Xy"
      },
      "execution_count": null,
      "outputs": []
    },
    {
      "cell_type": "markdown",
      "source": [
        "> **การตรวจสอบสมาชิก (Membership) ใช้ in**"
      ],
      "metadata": {
        "id": "YmroWingST-E"
      }
    },
    {
      "cell_type": "code",
      "source": [
        "fruits = {'apple', 'banana', 'cherry'}\n",
        "\n",
        "print('apple' in fruits)\n",
        "print('orange' in fruits)"
      ],
      "metadata": {
        "id": "RWuZO4P6SaWk"
      },
      "execution_count": null,
      "outputs": []
    },
    {
      "cell_type": "code",
      "source": [],
      "metadata": {
        "id": "cto7rkR6WdX1"
      },
      "execution_count": null,
      "outputs": []
    },
    {
      "cell_type": "markdown",
      "source": [
        "#### **8.4 พจนานุกรม      (Dictionary): จัดเก็บข้อมูลตามลำดับ (Sequence) ในรูปแบบ Key:Value** *สามารถแก้ไข* ค่าได้ภายหลังจากสร้างเสร็จแล้ว (Mutable)"
      ],
      "metadata": {
        "id": "i1D3PfPMVP_K"
      }
    },
    {
      "cell_type": "code",
      "source": [
        "scores = {'ant': 10, 'bat': 20, 'cat': 30}   # จัดเก็บข้อมูลในรูป {Key:Value}\n",
        "\n",
        "print(scores[?])    # แสดงค่า (Value) ของ 'ant'\n",
        "print(\"----------------------------------------------------------\")\n",
        "\n",
        "print(scores.?)      # แสดงคีย์ (Key)              ของ scores: keys()\n",
        "print(scores.?)      # แสดงค่า (Value)            ของ scores: values()\n",
        "print(scores.?)      # แสดงคีย์ (Key), ค่า (Value)  ของ scores: items()"
      ],
      "metadata": {
        "id": "qI9LrUL5V-yR"
      },
      "execution_count": null,
      "outputs": []
    },
    {
      "cell_type": "markdown",
      "source": [
        "> **การเข้าถึงข้อมูลสมาชิกในพจนานุกรม (Dictionary) โดยใช้ Loop**"
      ],
      "metadata": {
        "id": "ehWtq6gCZO7U"
      }
    },
    {
      "cell_type": "code",
      "source": [
        "scores = {'ant': 10, 'bat': 20, 'cat': 30}   # จัดเก็บข้อมูลในรูป {Key:Value}\n",
        "\n",
        "for key, value in scores.items():\n",
        "  print(f\"{key} สอบได้ {value} คะแนน\")"
      ],
      "metadata": {
        "id": "508R3Y2wZcig"
      },
      "execution_count": null,
      "outputs": []
    },
    {
      "cell_type": "markdown",
      "source": [
        "### **Level 5:** คำสั่งในการควบคุม (Control Structure) การกำหนดเงื่อนไข (If-Else) และการวนซ้ำ (Loops: For / While)"
      ],
      "metadata": {
        "id": "RMWX3y7-lHPZ"
      }
    },
    {
      "cell_type": "markdown",
      "source": [
        "#### **9. การกำหนดเงื่อนไข (Condition: If-Else)**\n",
        "> **การตัดสินใจ** ของคอมพิวเตอร์จะขึ้นกับเงื่อนไข (Condition) ที่เรากำหนดให้\n",
        "* 9.1 If\n",
        "* 9.2 If - Else\n",
        "* 9.3 If - Else If - Else"
      ],
      "metadata": {
        "id": "I5kfHk_1Hinz"
      }
    },
    {
      "cell_type": "markdown",
      "source": [
        "> **9.1 If** : จะทำงานก็ต่อเมื่อเงื่อนไข (Condition)\n",
        "* If เป็นจริง"
      ],
      "metadata": {
        "id": "BbT08JCSJ7U8"
      }
    },
    {
      "cell_type": "code",
      "source": [
        "sex = 'male'        # กำหนดให้ เพศ (sex) เป็น 'male'\n",
        "\n",
        "if sex == 'male':   # กรณีที่ If เป็นจริง (True)\n",
        "  print(\"เพศชาย\")   # แสดงข้อความ 'เพศชาย'"
      ],
      "metadata": {
        "id": "9QumQO6jHk3P"
      },
      "execution_count": null,
      "outputs": []
    },
    {
      "cell_type": "markdown",
      "source": [
        "> **9.2 If - Else** : จะทำงานก็ต่อเมื่อเงื่อนไข (Condition)\n",
        "* If เป็นจริง\n",
        "* กรณีที่ If เป็นเท็จจะไปทำงานที่ Else"
      ],
      "metadata": {
        "id": "7dbGlODiKJ4D"
      }
    },
    {
      "cell_type": "code",
      "source": [
        "sex = 'female'      # กำหนดให้ เพศ (sex) เป็น 'female'\n",
        "\n",
        "if sex == 'male':   # กรณีที่ If เป็นจริง (True)\n",
        "  print(\"เพศชาย\")   # แสดงข้อความ 'เพศชาย'\n",
        "\n",
        "else:               # กรณีที่ If เป็นเท็จ (False)\n",
        "  print(\"เพศหญิง\")   # แสดงข้อความ 'เพศหญิง'"
      ],
      "metadata": {
        "id": "RyID98J7K_6T"
      },
      "execution_count": null,
      "outputs": []
    },
    {
      "cell_type": "markdown",
      "source": [
        "> **9.3 If - Else If - Else** : จะทำงานก็ต่อเมื่อเงื่อนไข (Condition)\n",
        "* If เป็นจริง\n",
        "* กรณีที่ If เป็นเท็จจะไปทำงานที่ Else If\n",
        "* กรณีที่เงื่อนไขก่อนหน้าเป็นเท็จทั้งหมด ก็จะทำงานที่ Else"
      ],
      "metadata": {
        "id": "nMr9f6u0KfT6"
      }
    },
    {
      "cell_type": "code",
      "source": [
        "sex = 'unknown'       # กำหนดให้ เพศ (sex) เป็น 'unknown'\n",
        "\n",
        "if sex == 'male':     # กรณีที่ If เป็นจริง (True)\n",
        "  print(\"เพศชาย\")     # แสดงข้อความ 'เพศชาย'\n",
        "\n",
        "elif sex == 'female': # กรณีที่ Else If เป็นจริง (True)\n",
        "  print(\"เพศหญิง\")     # แสดงข้อความ 'เพศหญิง'\n",
        "\n",
        "else:                 # กรณีที่ If และ Else If เป็นเท็จ (False)\n",
        "  print(\"ไม่ระบุเพศ\")   # แสดงข้อความ 'ไม่ระบุเพศ'"
      ],
      "metadata": {
        "id": "obEbFGbmLBq6"
      },
      "execution_count": null,
      "outputs": []
    },
    {
      "cell_type": "code",
      "source": [],
      "metadata": {
        "id": "QEPvy5oGWddB"
      },
      "execution_count": null,
      "outputs": []
    },
    {
      "cell_type": "markdown",
      "source": [
        "#### **10. การวนซ้ำ (Loops: For / While)**\n",
        "> เป็นกระบวนการ**วนซ้ำเพื่อทำงานในขณะที่เงื่อนไข** (Condition) **เป็นจริง (True)** และ**สิ้นสุดการทำงาน (Exit) เมื่อเงื่อนไขเป็นเท็จ (False)**"
      ],
      "metadata": {
        "id": "pxRTm2rrHl4f"
      }
    },
    {
      "cell_type": "markdown",
      "source": [
        "##### **วิธีการที่ 1:** การวนซ้ำ **For** นิยมใช้กับการวนซ้ำ (Loops) ที่ **ทราบจำนวนรอบที่แน่นอน**"
      ],
      "metadata": {
        "id": "Uhu2u6dDQiVR"
      }
    },
    {
      "cell_type": "code",
      "source": [
        "# วนแสดง ตัวเลขจำนวนเต็มที่จัดเก็บในลิสต์ (List) ที่มีค่าตั้งแต่ 0 - 4\n",
        "items = [0, 1, 2, 3, 4]\n",
        "\n",
        "for i in items:    # วนอ่านค่าสมาชิกที่อยู่ items มาจัดเก็บไว้ในตัวแปร i\n",
        "  print(i)"
      ],
      "metadata": {
        "id": "L_vLiYV_T-S0"
      },
      "execution_count": null,
      "outputs": []
    },
    {
      "cell_type": "code",
      "source": [
        "# วนแสดง ตัวเลขจำนวนเต็ม ตั้งแต่ 0 - 4\n",
        "\n",
        "for i in range(5):    # ฟังก์ชัน range() จะมีค่าเริ่มต้นที่ [0, 5) คือเริ่มที่ [0, 1, 2, 3, 4] (ไม่รวม 5)\n",
        "  print(i)"
      ],
      "metadata": {
        "id": "TnrXD6R2HnUM"
      },
      "execution_count": null,
      "outputs": []
    },
    {
      "cell_type": "code",
      "source": [
        "# วนแสดง ตัวเลขจำนวนเต็ม ตั้งแต่ 1 - 4\n",
        "\n",
        "for i in range(1, 5): # ฟังก์ชัน range() จะมีค่าเริ่มต้นที่ [1, 5) คือเริ่มที่ [1, 2, 3, 4] (ไม่รวม 5)\n",
        "  print(i)"
      ],
      "metadata": {
        "id": "bg8YV4KBRrZo"
      },
      "execution_count": null,
      "outputs": []
    },
    {
      "cell_type": "code",
      "source": [
        "# วนแสดง ตัวเลขจำนวนเต็มคู่ (Even) ที่อยู่ระหว่าง 1 - 4\n",
        "for i in range(1, 5): # ฟังก์ชัน range() จะมีค่าเริ่มต้นที่ [1, 5) คือเริ่มที่ 1, 2, 3, 4 (ไม่รวม 5)\n",
        "  if i%2 == 0:        # กรณีที่หาร (modulus) ด้วย 2 ลงตัวจะมีค่าเท่ากับ 0 แสดงว่าเป็นตัวเลขคู่\n",
        "    print(i)"
      ],
      "metadata": {
        "id": "LzWPFX6FSDqK"
      },
      "execution_count": null,
      "outputs": []
    },
    {
      "cell_type": "code",
      "source": [
        "# วนแสดง ผลรวม ของตัวเลขคี่ (Odd) ที่อยู่ระหว่าง 1 - 4\n",
        "for i in range(1, 5): # ฟังก์ชัน range() จะมีค่าเริ่มต้นที่ [1, 5) คือเริ่มที่ 1, 2, 3, 4 (ไม่รวม 5)\n",
        "  if i%2 != 0:        # กรณีที่หาร (modulus) ด้วย 2 ไม่ลงตัวจะมีค่า ไม่เท่ากับ 0 แสดงว่าเป็นตัวเลขคี่\n",
        "    print(i)"
      ],
      "metadata": {
        "id": "cM7sKp0XS1UO"
      },
      "execution_count": null,
      "outputs": []
    },
    {
      "cell_type": "code",
      "source": [
        "# จงหา ผลรวม ของเลขจำนวนเต็มคู่ในลิสต์ (List) ที่กำหนดให้\n",
        "items = [1, 2, 3, 4]\n",
        "\n",
        "total = 0       # กำหนดค่าเริ่มต้นให้กับตัวแปร total ที่เราจะใช้ในการเก็บผลรวมของเลขจำนวนเต็มคู่ในลิสต์ (List) ที่กำหนดให้\n",
        "\n",
        "for i in items: # วนอ่านค่าสมาชิกที่อยู่ items มาจัดเก็บไว้ในตัวแปร i\n",
        "  if i%2 == 0:  # กรณีที่หาร (modulus) ด้วย 2 ลงตัวจะมีค่าเท่ากับ 0 แสดงว่าเป็นตัวเลขคู่\n",
        "    total += i  # ทำการเพิ่มค่า i ที่เป็นตัวเลขจำนวนเต็มคู่ จัดเก็บไว้ในตัวแปร total\n",
        "\n",
        "total"
      ],
      "metadata": {
        "id": "rNpwOPVAVY1j"
      },
      "execution_count": null,
      "outputs": []
    },
    {
      "cell_type": "code",
      "source": [
        "# จงหา ผลคูณ ของเลขจำนวนเต็มคู่ในลิสต์ (List) ที่กำหนดให้\n",
        "items = [1, 2, 3, 4]\n",
        "\n",
        "total = 1       # กำหนดค่าเริ่มต้นให้กับตัวแปร total ที่เราจะใช้ในการเก็บผลคูณของเลขจำนวนเต็มคู่ในลิสต์ (List) ที่กำหนดให้\n",
        "\n",
        "for i in items: # วนอ่านค่าสมาชิกที่อยู่ items มาจัดเก็บไว้ในตัวแปร i\n",
        "  if i%2 == 0:  # กรณีที่หาร (modulus) ด้วย 2 ลงตัวจะมีค่าเท่ากับ 0 แสดงว่าเป็นตัวเลขคู่\n",
        "    total *= i  # ทำการคูณค่า i ที่เป็นตัวเลขจำนวนเต็มคู่ จัดเก็บไว้ในตัวแปร total\n",
        "\n",
        "total"
      ],
      "metadata": {
        "id": "J5AbC5uMWuSd"
      },
      "execution_count": null,
      "outputs": []
    },
    {
      "cell_type": "code",
      "source": [
        "# ทำการตรวจสอบ จำนวนสินค้าคงคลัง (products) ของเลขในพจนานุกรม (Dictionary) ที่กำหนดให้\n",
        "# พร้อมกับ จัดเก็บสินค้าที่มีข้อมูลไม่ถูกต้อง\n",
        "products = {'apple':10, 'banana':15, 'cherry':0, 'durain':-1,'orange':9}\n",
        "problems = []\n",
        "\n",
        "for key, value in products.items():\n",
        "  if value >= 0:                              # กรณีที่จำนวนสินค้าคงคลัง (products) มีค่ามากกว่า หรือเท่ากับ 0\n",
        "    print(f\"สินค้าตัวที่ {key} คงเหลือ {value}\")\n",
        "  else:                                       # กรณีที่จำนวนสินค้าคงคลัง (products) มีค่าน้อยกว่า 0\n",
        "    print(f\"สินค้าตัวที่ {key} ไม่สามารถต่ำกว่า 0 ได้\")\n",
        "    problems.append(key)                      # จัดเก็บลำดับสินค้าที่มีปัญหาไปไว้ใน ลิสต์ (List)\n",
        "\n",
        "print()\n",
        "print(f\"สินค้าที่มีข้อมูลไม่ถูกต้อง: {problems}\")"
      ],
      "metadata": {
        "id": "svAdagt77BZn"
      },
      "execution_count": null,
      "outputs": []
    },
    {
      "cell_type": "markdown",
      "source": [
        "##### **วิธีการที่ 2:** การวนซ้ำ **While** นิยมใช้กับการวนซ้ำ (Loops) ที่ **ไม่ทราบจำนวนรอบที่แน่นอน**"
      ],
      "metadata": {
        "id": "Khj5SuqJa234"
      }
    },
    {
      "cell_type": "code",
      "source": [
        "# วนแสดง ตัวเลขจำนวนเต็มที่จัดเก็บในลิสต์ (List) ที่มีค่า\n",
        "items = [10, 20, -1, 30, 40]\n",
        "\n",
        "i = 0                       # กำหนดค่าเริ่มต้นให้ i เท่ากับ 0\n",
        "while (i < len(items)):     # วนทำงานในขณะที่ค่า i น้อยกว่า จำนวนสมาชิกที่อยู่ลิสต์ (List) ของ items\n",
        "  print(items[i])           # แสดงตัวเลขของ items ที่จัดเก็บในตำแหน่งที่ i\n",
        "  i += 1                    # เพิ่มค่า i ครั้งละ 1"
      ],
      "metadata": {
        "id": "3nU0qXEC9elO"
      },
      "execution_count": null,
      "outputs": []
    },
    {
      "cell_type": "markdown",
      "source": [
        "##### **Break:** เป็นคำสั่งที่ใช้ในการ**หยุดการวนซ้ำ** (Exit Loop)\n",
        "\n",
        "\n"
      ],
      "metadata": {
        "id": "H_yHEStT5nF9"
      }
    },
    {
      "cell_type": "code",
      "source": [
        "# วนแสดง ตัวเลขจำนวนสมาชิกที่จัดเก็บในลิสต์ (List) กรณีพบข้อมูลต่ำกว่า 0 ให้หยุดการทำงาน (break)\n",
        "items = [10, 20, -1, 30, 40]\n",
        "\n",
        "for i in items:    # วนอ่านค่าสมาชิกที่อยู่ items มาจัดเก็บไว้ในตัวแปร i\n",
        "  if i < 0:        # ถ้าข้อมูลที่อ่านเข้ามา (i) มีค่าน้อยกว่า 0 ให้ทำการหยุดการวนซ้ำ (Exit Loop)\n",
        "    print(\"พบข้อมผิดพลาด!! จำนวนไม่สามารถต่ำกว่า 0 ได้\")\n",
        "    break          # ทดสอบ comment break แล้วตรวจสอบผลลัพธ์\n",
        "  print(i)"
      ],
      "metadata": {
        "id": "k7woyWfe6KQc"
      },
      "execution_count": null,
      "outputs": []
    },
    {
      "cell_type": "code",
      "source": [
        "# ทำการตรวจสอบ จำนวนสินค้าคงคลัง (products) ของเลขในลิสต์ (List) ที่กำหนดให้\n",
        "# พร้อมกับ จัดเก็บสินค้าที่มีข้อมูลไม่ถูกต้อง\n",
        "products = [10, 15, 0, -1, 9]\n",
        "problems = []\n",
        "\n",
        "i = 0                       # กำหนดค่าเริ่มต้นให้กับตัวแปร i\n",
        "while (i < len(products)):  # วนซ้ำในขณะที่ค่า i น้อยกว่า จำนวนสมาชิกที่อยู่ใน ลิสต์ (List) ของสินค้าคงคลัง (products)\n",
        "  if products[i] >= 0:      # กรณีที่จำนวนสินค้าคงคลัง (products) มีค่ามากกว่า หรือเท่ากับ 0\n",
        "    print(f\"สินค้าตัวที่ {i} คงเหลือ {products[i]}\")  # ทดลองแก้ไขให้ ลำดับของสินค้าเริ่มต้นแสดงที่ เลข 1\n",
        "    i += 1\n",
        "  else:                     # กรณีที่จำนวนสินค้าคงคลัง (products) มีค่าน้อยกว่า 0\n",
        "    print(f\"สินค้าตัวที่ {i} ไม่สามารถต่ำกว่า 0 ได้\")     # ทดลองแก้ไขให้ ลำดับของสินค้าเริ่มต้นแสดงที่ เลข 1\n",
        "    problems.append(i)      # จัดเก็บลำดับสินค้าที่มีปัญหาไปไว้ใน ลิสต์ (List)\n",
        "    i += 1\n",
        "    #break                  # ทดลองใส่ break แล้วดูผลลัพธ์\n",
        "\n",
        "print()\n",
        "print(f\"สินค้าที่มีข้อมูลไม่ถูกต้อง: {problems}\")"
      ],
      "metadata": {
        "id": "Gy0CU0v83Jnb"
      },
      "execution_count": null,
      "outputs": []
    },
    {
      "cell_type": "markdown",
      "source": [
        "### **Level 6:** ฟังก์ชัน (Functions) และ ขอบเขตของตัวแปร (Scope)\n",
        "\n",
        "> **เป็นการสร้างกล่อง (Box) เพื่อทำงานอะไรบางอย่าง เมื่อทำงานสำเร็จก็จะส่งค่ากลับออกมา (Return)**\n",
        "\n",
        "* การประกาศเพื่อใช้งานฟังก์ชัน (Function Declaration)\n",
        "* การประกาศเพื่อใช้งานฟังก์ชัน lambda (Anonymous Function)\n",
        "* การใช้งานฟังก์ชัน (Function) กับสมาชิกที่อยู่ใน ลิสต์ (List): ด้วยการวนซ้ำ (Loop)\n",
        "* การใช้งานฟังก์ชัน (Function) กับสมาชิกที่อยู่ใน ลิสต์ (List): ด้วย List Comprehension"
      ],
      "metadata": {
        "id": "4ek60NzOmZCi"
      }
    },
    {
      "cell_type": "markdown",
      "source": [
        "#### **11.1 การประกาศเพื่อใช้งานฟังก์ชัน (Function Declaration)**"
      ],
      "metadata": {
        "id": "pawm7deLbbuT"
      }
    },
    {
      "cell_type": "code",
      "source": [
        "# ฟังชันสำหรับ คำนวณค่ากำลังสอง (square) ของตัวแปร (x) ด้วย def\n",
        "\n",
        "def square_func(x):\n",
        "  return x * x          # ส่งคำตอบ ค่ากำลังสอง (square) ของ x ที่ได้กลับออกไปจากฟังก์ชัน"
      ],
      "metadata": {
        "id": "02US4a_HKK6t"
      },
      "execution_count": null,
      "outputs": []
    },
    {
      "cell_type": "code",
      "source": [
        "item_size = 10          # ขนาดของสินค้า\n",
        "\n",
        "square_func(item_size)  # คำนวณผ่าน การเรียกใช้งานฟังก์ชัน square_func(...)"
      ],
      "metadata": {
        "id": "C9jfPVb_Km8x"
      },
      "execution_count": null,
      "outputs": []
    },
    {
      "cell_type": "markdown",
      "source": [
        "#### **11.2 การประกาศเพื่อใช้งานฟังก์ชัน lambda (Anonymous Function Declaration)**"
      ],
      "metadata": {
        "id": "Wzr-uxi99vam"
      }
    },
    {
      "cell_type": "code",
      "source": [
        "# ฟังชันสำหรับ คำนวณค่ากำลังสอง (square) ของตัวแปร (x) ด้วย ฟังก์ชัน lambda x: แทนการประกาศ def\n",
        "square_lambda = lambda x: x * x   # สร้างตัวแปร square_lambda เพื่อจัดเก็บ ฟังก์ชัน lambda x: แทนการประกาศ def\n",
        "                                  # โดยรับ parameter x: แล้วนำ x มายกกำลัง 2\n",
        "\n",
        "item_size = 10                    # ขนาดของสินค้า\n",
        "square_lambda(item_size)          # คำนวณผ่านฟังก์ชัน (ยกกำลังสอง)"
      ],
      "metadata": {
        "id": "E4dySDMbb6vD"
      },
      "execution_count": null,
      "outputs": []
    },
    {
      "cell_type": "code",
      "source": [
        "# สร้าง cube_lambda เพื่อคำนวณขนาด 3 มิติ (กว้าง * ยาว * สูง) ด้วย ฟังก์ชัน lambda x: แทนการประกาศ def\n",
        "# โดยรับ parameter x: แล้วนำ x มายกกำลัง 3\n",
        "cube_lambda = lambda x: x**3\n",
        "\n",
        "item_size = 10                    # ขนาดของสินค้า\n",
        "cube_lambda(item_size)            # คำนวณผ่านฟังก์ชัน (ยกกำลังสาม)"
      ],
      "metadata": {
        "id": "Z131GjbUc4xZ"
      },
      "execution_count": null,
      "outputs": []
    },
    {
      "cell_type": "markdown",
      "source": [
        "#### **11.3** การใช้งานฟังก์ชัน (Function) กับสมาชิกที่อยู่ใน ลิสต์ (List): **ด้วยการวนซ้ำ (Loop)**"
      ],
      "metadata": {
        "id": "PyjNTSrbM3D7"
      }
    },
    {
      "cell_type": "code",
      "source": [
        "items = [1, 2, 3, 4]        # ลิสต์ (List) ของสินค้า (items)\n",
        "\n",
        "for item in items:          # วนรอบอ่านค่าสมาชิก (item) ของสินค้า (items) ที่จัดเก็บใน ลิสต์ (List)\n",
        "  print(square_func(item))  # แสดงผลการคำนวณฟังก์ชัน (ยกกำลังสอง)"
      ],
      "metadata": {
        "id": "wv0KEg9jLsp6"
      },
      "execution_count": null,
      "outputs": []
    },
    {
      "cell_type": "code",
      "source": [
        "items = [1, 2, 3, 4]        # ลิสต์ (List) ของสินค้า (items)\n",
        "areas = []                  # สร้างลิสต์ว่าง เพื่อใช้จัดเก็บผลลัพธ์ (areas)\n",
        "\n",
        "for item in items:          # วนรอบอ่านค่าสมาชิก (item) ของสินค้า (items) ที่จัดเก็บใน ลิสต์ (List)\n",
        "  areas.append(square_func(item))   # จัดเก็บผลการคำนวณฟังก์ชัน (ยกกำลังสอง) ของสินค้า ไว้ในตัวแปร areas\n",
        "\n",
        "areas"
      ],
      "metadata": {
        "id": "ofHoKLS1PvzB"
      },
      "execution_count": null,
      "outputs": []
    },
    {
      "cell_type": "markdown",
      "source": [
        "#### **11.4** การใช้งานฟังก์ชัน (Function) กับสมาชิกที่อยู่ใน ลิสต์ (List): **ด้วย List Comprehension**\n",
        "\n",
        "> เป็น การประมวลผลสมาชิกที่อยู่ในลิสต์ (List) -> ผลลัพธ์ที่ได้\n",
        "จะเก็บอยู่ในรูปของลิสต์ (List)"
      ],
      "metadata": {
        "id": "VGoujBGxOJPL"
      }
    },
    {
      "cell_type": "code",
      "source": [
        "items = [1, 2, 3, 4]        # ลิสต์ (List) ของสินค้า (items)\n",
        "areas = [square_func(item) for item in items]   # ประมวลผลฟังก์ชัน (ยกกำลังสอง) เสร็จ แล้วเก็บสมาชิกไว้ในลิสต์ (List)\n",
        "\n",
        "areas"
      ],
      "metadata": {
        "id": "fM7tqelUMJUa"
      },
      "execution_count": null,
      "outputs": []
    },
    {
      "cell_type": "code",
      "source": [
        "# https://www.geeksforgeeks.org/python-map-function/\n",
        "\n",
        "# ทำการ เลือกเฉพาะสมาชิกที่เป็น เลขคู่ แล้วนำตัวเลขข้างต้นไป ประมวลผลด้วยฟังก์ชัน\n",
        "items = [1, 2, 3, 4]        # ลิสต์ (List) ของสินค้า (items)\n",
        "\n",
        "results = [item for item in items if item%2 == 0]\n",
        "print(\"results: \\n\", results)\n",
        "\n",
        "output = list(map(square_func, results))\n",
        "print(f\"Square of {results}: \\n\", output)\n"
      ],
      "metadata": {
        "id": "mytDKm-yXwws"
      },
      "execution_count": null,
      "outputs": []
    },
    {
      "cell_type": "code",
      "source": [
        "items = [1, 2, 3, 4]        # ลิสต์ (List) ของสินค้า (items)\n",
        "\n",
        "results = [square_func(item) for item in items if item%2 == 0]\n",
        "print(\"results: \\n\", results)"
      ],
      "metadata": {
        "id": "G6YHRSGrAz_l"
      },
      "execution_count": null,
      "outputs": []
    },
    {
      "cell_type": "code",
      "source": [],
      "metadata": {
        "id": "3nkGjN67nL-f"
      },
      "execution_count": null,
      "outputs": []
    },
    {
      "cell_type": "markdown",
      "source": [
        "#### **12. ขอบเขตของตัวแปร (Scope)**\n",
        "* ขอบเขตตัวแปร Local รู้จักภายในขอบเขตที่ประกาศใช้งาน\n",
        "* ขอบเขตตัวแปร Global ทุกคนรู้จัก"
      ],
      "metadata": {
        "id": "NL8qsnNbKLOv"
      }
    },
    {
      "cell_type": "markdown",
      "source": [
        "##### **12.1 ขอบเขตตัวแปร Local**"
      ],
      "metadata": {
        "id": "vz6GoWMHq4vJ"
      }
    },
    {
      "cell_type": "code",
      "source": [
        "x = 1                # กำหนดค่าเริ่มต้นให้กับตัวแปร x = 10\n",
        "print(f\"x Before call scope_func(x) = {x}\")   # ค่า x ก่อนส่งเข้าไปให้กับฟังก์ชัน scope_func(x)\n",
        "\n",
        "def scope_func(x):    # ส่งตัวแปร x มาให้กับฟังก์ชัน scope_func(x)\n",
        "  x = x + 999         # ตัวแปร x ในขอบเขตของ ฟังก์ชัน scope_func(x) เป็นคนละตัวกับ x = 1 (แม้ว่าจะนำค่า 1 ส่งมากับ parameter x ก็ตาม)\n",
        "  return x\n",
        "\n",
        "result = scope_func(x)\n",
        "\n",
        "print(f\"scope_func(x) return = {result}\")     # ค่าผลลัพธ์ result ที่ได้จากฟังก์ชัน scope_func(x)\n",
        "print(f\"x After call scope_func(x) = {x}\")    # ค่า x หลังจากส่งเข้าไปให้กับฟังก์ชัน scope_func(x)"
      ],
      "metadata": {
        "id": "80YE7q30KNfP",
        "colab": {
          "base_uri": "https://localhost:8080/"
        },
        "outputId": "11e55c69-757b-476a-b1d6-80e5f2f24a00"
      },
      "execution_count": null,
      "outputs": [
        {
          "output_type": "stream",
          "name": "stdout",
          "text": [
            "x Before call scope_func(x) = 1\n",
            "scope_func(x) return = 1000\n",
            "x After call scope_func(x) = 1\n"
          ]
        }
      ]
    },
    {
      "cell_type": "markdown",
      "source": [
        "##### **12.2 ขอบเขตตัวแปร Global**"
      ],
      "metadata": {
        "id": "lm0ZK3YqrEg7"
      }
    },
    {
      "cell_type": "code",
      "source": [
        "x = 10              # กำหนดค่าเริ่มต้นให้กับตัวแปร x = 10\n",
        "print(f\"x Before call scope_func() = {x}\")   # ค่า x ก่อนส่งเข้าไปให้กับฟังก์ชัน scope_func()\n",
        "\n",
        "def scope_func():   # เนื่องจากฟังก์ชัน scope_func()\n",
        "  global x          # มีการเรียกใช้งาน global x (ระบุว่าเป็นตัวแปร global)\n",
        "  x = x + 1\n",
        "\n",
        "  return x          # ตัวแปร x เป็น global scope\n",
        "\n",
        "result = scope_func()\n",
        "\n",
        "print(f\"scope_func() return = {result}\")      # ค่าผลลัพธ์ result ที่ได้จากฟังก์ชัน scope_func(x)\n",
        "print(f\"x After call scope_func() = {x}\")     # ค่า x หลังจากส่งเข้าไปให้กับฟังก์ชัน scope_func(x)"
      ],
      "metadata": {
        "colab": {
          "base_uri": "https://localhost:8080/"
        },
        "id": "VxCj7-ZGmCy8",
        "outputId": "5c7654aa-d614-48d0-95b1-2b500f3fd092"
      },
      "execution_count": null,
      "outputs": [
        {
          "output_type": "stream",
          "name": "stdout",
          "text": [
            "x Before call scope_func() = 10\n",
            "scope_func() return = 11\n",
            "x After call scope_func() = 11\n"
          ]
        }
      ]
    },
    {
      "cell_type": "code",
      "source": [],
      "metadata": {
        "id": "RkHHp710nMBp"
      },
      "execution_count": null,
      "outputs": []
    },
    {
      "cell_type": "markdown",
      "source": [
        "### **Level 7:**  โมดูล (Modules) และแพ็กเกจ (Packages)\n",
        "กรณีที่เราต้องการ นำฟังก์ชัน ที่เราสร้างไว้ ไปใช้ใหม่ในอนาคต (Reuse)\n",
        "\n",
        "1. สร้างแฟ้มชื่อ mymodule.py\n",
        "2. คัดลอกฟังก์ชัน\n",
        "\n",
        "```\n",
        "def square_func(x):\n",
        "    return x * x\n",
        "```\n",
        "\n",
        "3. เขียน Code เพื่อเรียกใช้งานโมดูล (Modules)\n",
        "\n",
        "```\n",
        "import mymodule as me  # นำเข้าโมดูลที่เราสร้างไว้\n",
        "\n",
        "me.square_func(10)     # เรียกใช้งานฟังก์ชัน square_func(...)\n",
        "```\n"
      ],
      "metadata": {
        "id": "A7eHprT5KNnY"
      }
    },
    {
      "cell_type": "code",
      "source": [
        "# import mymodule as me\n",
        "\n",
        "# me.square_func(10)"
      ],
      "metadata": {
        "id": "TRzw_ohEKQCp"
      },
      "execution_count": null,
      "outputs": []
    },
    {
      "cell_type": "code",
      "source": [],
      "metadata": {
        "id": "JMN-gzIHnMGE"
      },
      "execution_count": null,
      "outputs": []
    },
    {
      "cell_type": "markdown",
      "source": [
        "### **Level 8:** คลาส (Classes) และ วัตถุ (Objects)**\n",
        "\n",
        "> ต้นแบบคลาส (Classes) เสมือนพิมพ์เขียว ที่จัดเก็บคุณสมบัติ (Property) และพฤติกรรม (Method) ที่จะสามารถนำไปสร้างวัตถุ (Objects) ออกมาได้จำนวนมาก"
      ],
      "metadata": {
        "id": "Dfjl-O_BKQPB"
      }
    },
    {
      "cell_type": "markdown",
      "source": [
        "#### **14.1 สร้างต้นแบบรถยนต์ (Car):**\n",
        "* คุณสมบัติ (Property): สามารถจัดเก็บยี่ห้อ (brand), ความเร็ว (speed) และสี (color)\n",
        "* พฤติกรรม (Method): แสดงรายละเอียดของรถยนต์"
      ],
      "metadata": {
        "id": "SxiHatFzbbvT"
      }
    },
    {
      "cell_type": "code",
      "source": [
        "class Car:                # คลาสของรถยนต์\n",
        "# คุณสมบัติ (Property)\n",
        "  def __init__(self, brand, speed, color):  # รับค่าพารามิเตอร์ (paramter): ยี่ห้อ (brand), ความเร็ว (speed), สี (color)\n",
        "    self.brand = brand    # จัดเก็บยี่ห้อ (brand)\n",
        "    self.speed = speed    # จัดเก็บความเร็ว (speed)\n",
        "    self.color = color    # จัดเก็บสี (color)\n",
        "\n",
        "# พฤติกรรม (Method)\n",
        "  def detail(self):       # ฟังก์ชันที่ใช้ในการแสดงรายละเอียดของคลาสรถยนต์\n",
        "    print(f\"{self.color} : {self.brand}\")\n",
        "    print(f\"Speed: {self.speed}\")"
      ],
      "metadata": {
        "id": "eO2ZZMDCKR9p"
      },
      "execution_count": null,
      "outputs": []
    },
    {
      "cell_type": "code",
      "source": [
        "bmw = Car(\"BMW\", 220, \"Black\")  # สร้างวัตถุ (object / instance) ของรถยนต์ยี่ห้อ BMW ความเร็ว 220 และมีสี Black\n",
        "\n",
        "bmw.detail()                    # แสดงรายละเอียดของรถยนต์ BMW"
      ],
      "metadata": {
        "id": "D39j5GzXOZQS"
      },
      "execution_count": null,
      "outputs": []
    },
    {
      "cell_type": "markdown",
      "source": [
        "#### **14.2 สร้างต้นแบบรถยนต์ไฟฟ้า (ECar):**\n",
        "* คุณสมบัติ (Property): สามารถจัดเก็บยี่ห้อ (brand), ความเร็ว (speed), สี (color) และพลังงาน (energy)\n",
        "* พฤติกรรม (Method): แสดงรายละเอียดของรถยนต์"
      ],
      "metadata": {
        "id": "wGi2Jt7_cB0t"
      }
    },
    {
      "cell_type": "code",
      "source": [
        "class Ecar(Car):          # คลาสของรถยนต์ไฟฟ้า ที่มีการถ่ายทอดคุณสมบัติ (Inheritance) จาก คลาสรถยนต์ (Car)\n",
        "  def __init__(self, brand, speed, color, energy):  # รับค่าพารามิเตอร์ (paramter):ยี่ห้อ(brand),ความเร็ว(speed),สี(color),พลังงาน(energy)\n",
        "    super().__init__(brand, speed, color)           # ใช้งาน __init__ ของคลาสที่ถ่ายทอดคุณสมบัติ (Inheritance) มาจากรถยนต์ (Car)\n",
        "    self.energy = energy                            # จัดเก็บพลังงาน (energy)\n",
        "\n",
        "  def fastCharge(self, x):                          # ฟังก์ชันที่ใช้ในการชาร์จแบตเตอรี่ ด้วยพลังงาน x\n",
        "    print(\"Car is charging at \" + str(x) + \" %\")    # แสดงรายละเอียดระดับพลังงาน x ที่ชาร์จได้\n",
        "    self.energy = x                                 # จัดเก็บพลังงาน (energy)"
      ],
      "metadata": {
        "id": "f2SxkOMEOdDy"
      },
      "execution_count": null,
      "outputs": []
    },
    {
      "cell_type": "code",
      "source": [
        "tesla = Ecar(\"Tesla\", 260, \"White\", 10)       # สร้างวัตถุ (object / instance) ของรถยนต์ยี่ห้อ Tesla ความเร็ว 260 สี White มีพลังงาน 10\n",
        "\n",
        "tesla.detail()                                # แสดงรายละเอียดของรถยนต์ Tesla\n",
        "print()\n",
        "\n",
        "print(\"Battery before Charge:\", tesla.energy) # แสดงปริมาณแบตเตอรี่ปัจจุบันก่อนชาร์จ (10)\n",
        "tesla.fastCharge(60)                          # ชาร์จพลังงานไปแล้ว 60%\n",
        "print(\"Battery after Charge:\", tesla.energy)  # แสดงปริมาณแบตเตอรี่ปัจจุบันหลังชาร์จ (60)"
      ],
      "metadata": {
        "id": "zouCoSTCOgAw"
      },
      "execution_count": null,
      "outputs": []
    }
  ]
}