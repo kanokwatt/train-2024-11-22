{
  "nbformat": 4,
  "nbformat_minor": 0,
  "metadata": {
    "colab": {
      "provenance": [],
      "collapsed_sections": [
        "u6d0sn_9YOLS",
        "4k7AAW_ez4Z5",
        "u9KmHUYX0Ayy",
        "IpJgGwd4ckZq",
        "yPkZQNGactwG",
        "g34JYrMVdmSF",
        "daFQi_syc2Rs",
        "Gt1QhiUbiwYv",
        "iR96F8ozyuIQ",
        "9Px0J75qY0tv",
        "gflPIgOCG2rK",
        "oo-yPLPjSgbv",
        "hl5bavxJM2Hr"
      ]
    },
    "kernelspec": {
      "name": "python3",
      "display_name": "Python 3"
    },
    "language_info": {
      "name": "python"
    }
  },
  "cells": [
    {
      "cell_type": "markdown",
      "source": [
        "# **Introduction to Pandas and Practices**\n",
        "1. ตารางข้อมูล (DataFrame)\n",
        "2. ฟังก์ชันที่ใช้ในการคำนวณค่า BMI และ ภาวะของ BMI\n",
        "3. การสรุปภาพรวมของข้อมูล (Data Summarization)\n",
        "4. การคัดกรอง (Filtering) และจัดเรียงข้อมูล (Sorting)\n",
        "5. การจัดกลุ่มข้อมูล (GroupBy Operations)ุ\n",
        "6. การทำความสะอาดข้อมูล (Data Cleaning)\n",
        "7. การเปลี่ยนแปลงข้อมูล (Data Transformation)\n",
        "8. การจัดการกับข้อมูลที่มีค่าแตกต่างกัน (Normalization and Scaling Data)\n",
        "9. การนำเข้า (Import) และส่งออก (Export) ข้อมูล"
      ],
      "metadata": {
        "id": "u6d0sn_9YOLS"
      }
    },
    {
      "cell_type": "markdown",
      "source": [
        "### **1. ตารางข้อมูล (DataFrame)**"
      ],
      "metadata": {
        "id": "4k7AAW_ez4Z5"
      }
    },
    {
      "cell_type": "code",
      "source": [
        "import pandas as pd\n",
        "\n",
        "#-------------------------------------------------------------\n",
        "# ฟังก์ชันในการสร้าง ตารางข้อมูล (DataFrame)\n",
        "# ข้อมูลน้ำหนัก (weight) และส่วนสูง (height)\n",
        "#-------------------------------------------------------------\n",
        "def get_data():\n",
        "  data = {'weight': [   70,   77,   77,   77,   80,   70, None],    # ข้อมูลน้ำหนัก (weight)\n",
        "          'height': [ 2100,  185,  190,  170,  155,  None,  170]}   # ข้อมูลส่วนสูง (height)\n",
        "\n",
        "  df = pd.DataFrame(data)   # สร้าง DataFrame จากข้อมูล (data) น้ำหนัก (weight) และส่วนสูง (height)\n",
        "  return df\n",
        "\n",
        "df = ?()                  # เก็บ ตารางข้อมูล (DataFrame) ไว้ในตัวแปร df\n",
        "?                         # แสดงข้อมูลใน DataFrame"
      ],
      "metadata": {
        "id": "GH88WH-KaS07"
      },
      "execution_count": null,
      "outputs": []
    },
    {
      "cell_type": "markdown",
      "source": [
        "### **2. ฟังก์ชันที่ใช้ในการคำนวณค่า BMI และ ภาวะของ BMI**"
      ],
      "metadata": {
        "id": "u9KmHUYX0Ayy"
      }
    },
    {
      "cell_type": "code",
      "source": [
        "#-------------------------------------------------------------\n",
        "# ฟังก์ชัน คำนวณค่า BMI\n",
        "#-------------------------------------------------------------\n",
        "def bmi_calculator(weight, height):  # น้ำหนัก (kg), ส่วนสูง (cm)\n",
        "\n",
        "  bmi = weight / ((height/100)**2)    # คำนวณค่า BMI\n",
        "  bmi = round(bmi, 1)                 # ทศนิยม 1 ตำแหน่ง\n",
        "\n",
        "  ?                                   # ส่งคืน BMI ที่คำนวณได้"
      ],
      "metadata": {
        "id": "kRtPaBzJaCdm"
      },
      "execution_count": null,
      "outputs": []
    },
    {
      "cell_type": "code",
      "source": [
        "#-------------------------------------------------------------\n",
        "# ฟังก์ชัน คำนวณค่า ภาวะของ BMI\n",
        "#-------------------------------------------------------------\n",
        "def bmi_status(bmi):\n",
        "\n",
        "  if bmi < 18.5:                        # bmi น้อยกว่า 18.5        : ต่ำกว่าเกณฑ์\n",
        "    status = 'ต่ำกว่าเกณฑ์'\n",
        "  elif bmi >= 18.5 and bmi <= 22.9:     # bmi ระหว่าง 18.5 - 22.9  : สมส่วน\n",
        "    status = 'สมส่วน'\n",
        "  elif bmi >= 23 and bmi <= 24.9:       # bmi ระหว่าง 23.0 - 24.9  : เกินมาตรฐาน\n",
        "    status = 'เกินมาตรฐาน'\n",
        "  elif bmi >= 25 and bmi <= 29.9:       # bmi ระหว่าง 25.0 - 29.9  : โรคอ้วน\n",
        "    status = 'โรคอ้วน'\n",
        "  else:                                 # bmi มากกว่า 30.0         : รคอ้วนอันตราย\n",
        "    status = 'โรคอ้วนอันตราย'\n",
        "\n",
        "  return status"
      ],
      "metadata": {
        "id": "L1_v2yGWaHeD"
      },
      "execution_count": null,
      "outputs": []
    },
    {
      "cell_type": "markdown",
      "source": [
        "### **3. การสรุปภาพรวมของข้อมูล (Data Summarization)**"
      ],
      "metadata": {
        "id": "IpJgGwd4ckZq"
      }
    },
    {
      "cell_type": "code",
      "source": [
        "?         # แสดงรายละเอียดของ DataFrame .info()"
      ],
      "metadata": {
        "id": "Kq19VO51ezIn"
      },
      "execution_count": null,
      "outputs": []
    },
    {
      "cell_type": "code",
      "source": [
        "?    # แสดงค่าสถิติเชิงพรรณา ของ DataFrame .describe()"
      ],
      "metadata": {
        "id": "yA_H1HqJbJk3"
      },
      "execution_count": null,
      "outputs": []
    },
    {
      "cell_type": "code",
      "source": [
        "df[?].value_counts()   # นับจำนวน แยกตามน้ำหนัก (weight)"
      ],
      "metadata": {
        "id": "IfqTnMaAbYbP"
      },
      "execution_count": null,
      "outputs": []
    },
    {
      "cell_type": "code",
      "source": [
        "df['weight'].?          # น้ำหนักเฉลี่ย"
      ],
      "metadata": {
        "id": "afJVIF3QchfJ"
      },
      "execution_count": null,
      "outputs": []
    },
    {
      "cell_type": "markdown",
      "source": [
        "### **4. การคัดกรอง (Filtering) และจัดเรียงข้อมูล (Sorting)**"
      ],
      "metadata": {
        "id": "yPkZQNGactwG"
      }
    },
    {
      "cell_type": "code",
      "source": [
        "filtered  = df['weight']  < 80   # คัดกรองเฉพาะคนที่มีน้ำหนักน้อยกว่า 80\n",
        "\n",
        "filtered"
      ],
      "metadata": {
        "id": "N8c6j_Zuc1-t"
      },
      "execution_count": null,
      "outputs": []
    },
    {
      "cell_type": "code",
      "source": [
        "filtered  = df['weight'] < ?   # คัดกรองเฉพาะคนที่มีน้ำหนักน้อยกว่า 80\n",
        "\n",
        "df[?]                           # นำผลที่ได้มาคัดกรองข้อมูลจาก DataFrame (filtered)"
      ],
      "metadata": {
        "id": "aoxy7DlqdNNs"
      },
      "execution_count": null,
      "outputs": []
    },
    {
      "cell_type": "code",
      "source": [
        "df_filtered = df.query('?') # คัดกรองคนที่มีความสูง (height) มากกว่า 200 หรือ (or) มีน้ำหนัก (weight) ต่ำกว่า 77\n",
        "\n",
        "df_filtered"
      ],
      "metadata": {
        "id": "zIbmif4WI3rt"
      },
      "execution_count": null,
      "outputs": []
    },
    {
      "cell_type": "markdown",
      "source": [
        "### **5. การจัดกลุ่มข้อมูล (GroupBy Operations)**"
      ],
      "metadata": {
        "id": "g34JYrMVdmSF"
      }
    },
    {
      "cell_type": "code",
      "source": [
        "df.?('weight').mean()       # หาค่าเฉลี่ย ตามกลุ่มของน้ำหนัก (weight) .groupby(...)"
      ],
      "metadata": {
        "id": "HpUt3yUmdynE"
      },
      "execution_count": null,
      "outputs": []
    },
    {
      "cell_type": "code",
      "source": [
        "df.groupby('weight').?      # นับจำนวน แยกตามน้ำหนัก (weight) .count()"
      ],
      "metadata": {
        "id": "9UNET1voeLnf"
      },
      "execution_count": null,
      "outputs": []
    },
    {
      "cell_type": "markdown",
      "source": [
        "### **6. การทำความสะอาดข้อมูล (Data Cleaning)**"
      ],
      "metadata": {
        "id": "daFQi_syc2Rs"
      }
    },
    {
      "cell_type": "markdown",
      "source": [
        "#### **6.1 วิธีการที่ 1:** ถ้าเจอค่าว่าง (NaN) ให้ลบแถวนั้นทิ้ง แล้วค่อยแทนค่าว่าง (NaN) ด้วยค่าเฉลี่ย หรือค่ากลางอื่น ๆ"
      ],
      "metadata": {
        "id": "ZRT__PFesicZ"
      }
    },
    {
      "cell_type": "code",
      "source": [
        "df = ?             # เก็บ ตารางข้อมูล (DataFrame) ไว้ในตัวแปร df -> get_data()\n",
        "\n",
        "df.dropna(?)     # แสดงผลลัพธ์ ถ้าเราลบแถวที่มีค่าว่าง (NaN) ออก โดยแทนค่าเข้าไปที่เดิม (inplace=True)\n",
        "\n",
        "clean_df = df.copy()\n",
        "\n",
        "clean_df['weight'] = df['weight'].fillna(df['weight'].mean())     # แทนค่าน้ำหนัก (weight) ที่มีค่า NaN ด้วยค่าเฉลี่ยของน้ำหนัก (weight)\n",
        "clean_df['height'] = df['height'].fillna(df['height'].mean())     # แทนค่าส่วนสูง (height) ที่มีค่า NaN ด้วยค่าเฉลี่ยของส่วนสูง (height)\n",
        "\n",
        "clean_df        # พบว่ามี Outlier ของความสูง (height) ที่ 2100 ซึ่งจะส่งผลต่อการพยากรณ์"
      ],
      "metadata": {
        "id": "WTjL5y81fjL7"
      },
      "execution_count": null,
      "outputs": []
    },
    {
      "cell_type": "markdown",
      "source": [
        "#### **6.2 วิธีการที่ 2:** กำจัดข้อมูลผิดปกติ (Outlier) ก่อน แล้วค่อยแทนค่าว่าง (NaN) ด้วยค่าเฉลี่ย หรือค่ากลางอื่น ๆ"
      ],
      "metadata": {
        "id": "Sptjb2tquG3G"
      }
    },
    {
      "cell_type": "code",
      "source": [
        "df = get_data()                     # เก็บ ตารางข้อมูล (DataFrame) ไว้ในตัวแปร df\n",
        "\n",
        "Q1 = df['height'].quantile(?)    # การหาควอไทล์ที่ 25 (.25)\n",
        "Q3 = df['height'].quantile(?)    # การหาควอไทล์ที่ 75 (.75)\n",
        "\n",
        "IQR = Q3 - Q1                       # ควอไทล์ที่อยู่ระหว่าง 25 - 75\n",
        "\n",
        "upper_bound = Q3 + 1.5 * IQR        # ขอบเขตบน\n",
        "lower_bound = Q1 - 1.5 * IQR        # ขอบเขตล่าง\n",
        "\n",
        "outliers = df[(df['height'] < lower_bound) | (df['height'] > upper_bound)]  # การหาข้อมูลผิดปกติ (Outlier) ที่อยู่นอกช่วง ขอบเขตบน - ล่าง\n",
        "lower_bound, upper_bound            # (141.875, 216.875)\n",
        "\n",
        "outliers                            # แสดงข้อมูลผิดปกติ (Outlier)\n",
        "\n",
        "clean_df = df[~df.index.isin(outliers.index)].copy()  # กรองข้อมูลผิดปกติออกด้วย tilde (~) operator\n",
        "clean_df.dropna()                                     # กำจัดค่าว่าง (NaN) โดยแทนค่าเข้าไปที่เดิม (inplace=True)\n",
        "\n",
        "clean_df                            # DataFrame ที่ผ่านการทำความสะอาดข้อมูลแล้ว"
      ],
      "metadata": {
        "id": "WWrI7Jd4uVEP"
      },
      "execution_count": null,
      "outputs": []
    },
    {
      "cell_type": "markdown",
      "source": [
        "#### **6.3 วิธีการที่ไม่ควรทำ** คือ แทนค่าว่าง (NaN) ด้วยค่าเฉลี่ย หรือค่ากลางอื่น ๆ โดยไม่ได้กำจัด Outlier ก่อน"
      ],
      "metadata": {
        "id": "r3CPuqoGs2EF"
      }
    },
    {
      "cell_type": "code",
      "source": [
        "# ให้ระมัดระวังค่าความสูง (height: 2100) ที่เป็น Outlier อันจะส่งผลความเอนเอียงต่อ การแทนข้อมูลที่ศูนย์หายด้วยค่าเฉลี่ย\n",
        "# clean_df = df.copy()                                              # ทำสำเนาของ DataFrame\n",
        "\n",
        "# clean_df['weight'] = df['weight'].fillna(df['weight'].mean())     # แทนค่าน้ำหนัก (weight) ที่มีค่า NaN ด้วยค่าเฉลี่ยของน้ำหนัก (weight)\n",
        "# clean_df['height'] = df['height'].fillna(df['height'].mean())     # แทนค่าส่วนสูง (height) ที่มีค่า NaN ด้วยค่าเฉลี่ยของส่วนสูง (height)\n",
        "\n",
        "# clean_df"
      ],
      "metadata": {
        "id": "AYM1xs39fjVW"
      },
      "execution_count": null,
      "outputs": []
    },
    {
      "cell_type": "markdown",
      "source": [
        "### **7. การเปลี่ยนแปลงข้อมูล (Data Transformation)**"
      ],
      "metadata": {
        "id": "Gt1QhiUbiwYv"
      }
    },
    {
      "cell_type": "code",
      "source": [
        "#-----------------------------------------------------------------------------------------------------------------\n",
        "# คำนวณค่า BMI โดยส่ง น้ำหนัก (weight) และ ความสูง (height) ของ DataFrame ที่ยังไม่ได้ทำความสะอาด ไปที่ฟังก์ชัน bmi_calculator\n",
        "#-----------------------------------------------------------------------------------------------------------------\n",
        "clean_df['BMI'] = clean_df.apply(lambda row: bmi_calculator(row['weight'], row['height']), axis=1)  # axis=1 ให้ apply ในแต่ละแถว (axis=0 แต่ละคอลัมน์)\n",
        "\n",
        "clean_df"
      ],
      "metadata": {
        "id": "JfwG9gy4kNVG"
      },
      "execution_count": null,
      "outputs": []
    },
    {
      "cell_type": "code",
      "source": [
        "#-----------------------------------------------------------------------------------------------------------------\n",
        "# คำนวณค่า BMI โดยส่ง น้ำหนัก (weight) และ ความสูง (height) ของ DataFrame ที่ทำความสะอาดแล้ว ไปที่ฟังก์ชัน bmi_calculator\n",
        "#-----------------------------------------------------------------------------------------------------------------\n",
        "clean_df['BMI'] = clean_df.apply(lambda row: bmi_calculator(row['weight'], row['height']), axis=1)  # axis=1 ให้ apply ในแต่ละแถว (axis=0 แต่ละคอลัมน์)\n",
        "\n",
        "clean_df"
      ],
      "metadata": {
        "id": "anRknc39lNvo"
      },
      "execution_count": null,
      "outputs": []
    },
    {
      "cell_type": "code",
      "source": [
        "#-----------------------------------------------------------------------------------------------------------------\n",
        "# คำนวณค่าภาวะของ BMI  โดยส่ง BMI ของ DataFrame ที่ทำความสะอาดแล้ว ไปที่ฟังก์ชัน คำนวณค่า\n",
        "#-----------------------------------------------------------------------------------------------------------------\n",
        "clean_df['status'] = clean_df['BMI'].apply(bmi_status)\n",
        "\n",
        "clean_df"
      ],
      "metadata": {
        "id": "LYzl78VUO-Ur"
      },
      "execution_count": null,
      "outputs": []
    },
    {
      "cell_type": "markdown",
      "source": [
        "### **8. การจัดการกับข้อมูลที่มีค่าแตกต่างกัน (Normalization and Scaling Data)**"
      ],
      "metadata": {
        "id": "iR96F8ozyuIQ"
      }
    },
    {
      "cell_type": "code",
      "source": [
        "from sklearn.preprocessing import MinMaxScaler  # แปลงตัวเลขให้อยู่ระหว่าง 0-1\n",
        "\n",
        "weight_scaler = ? # จะทำการแปลงน้ำหนัก (weight)  ให้ตัวเลขอยู่ระหว่าง 0-1 -> MinMaxScaler()\n",
        "height_scaler = ? # จะทำการแปลงส่วนสูง (height) ให้ตัวเลขอยู่ระหว่าง 0-1  -> MinMaxScaler()\n",
        "\n",
        "clean_df['weight_scaled'] = weight_scaler.fit_transform(clean_df[['weight']])     # สร้างคอลัมน์ใหม่ของน้ำหนัก (weight) เพื่อเก็บผลการแปลง\n",
        "clean_df['height_scaled'] = height_scaler.fit_transform(clean_df[['height']])     # สร้างคอลัมน์ใหม่ของส่วนสูง (height) เพื่อเก็บผลการแปลง\n",
        "\n",
        "clean_df"
      ],
      "metadata": {
        "id": "k4KuKvAey54b"
      },
      "execution_count": null,
      "outputs": []
    },
    {
      "cell_type": "markdown",
      "source": [
        "### **9. การนำเข้า (Import) และส่งออก (Export) ข้อมูล**"
      ],
      "metadata": {
        "id": "o8dcGMtu3b3q"
      }
    },
    {
      "cell_type": "code",
      "source": [
        "# การส่งออก (Export) เพื่อจัดเก็บข้อมูล DataFrame ไว้ในแฟ้มข้อมูล\n",
        "clean_df.?('clean_bmi.csv')                # บันทึกข้อมูล BMI ลงแฟ้มชื่อ 'clean_bmi.csv' -> to_csv(...)\n",
        "#clean_df.to_csv('clean_bmi.csv', index=False)  # แก้ปัญหา มีคอลัมน์ \"Unnamed: 0\" บันทึกข้อมูล BMI ลงแฟ้มชื่อ 'clean_bmi.csv'\n",
        "\n",
        "clean_df"
      ],
      "metadata": {
        "id": "aTC7jJ6S3xW6"
      },
      "execution_count": null,
      "outputs": []
    },
    {
      "cell_type": "code",
      "source": [
        "read_clean_df = pd.read_csv('clean_bmi.csv')      # อ่านข้อมูลจากแฟ้มชื่อ 'clean_bmi.csv'\n",
        "\n",
        "read_clean_df"
      ],
      "metadata": {
        "id": "vJXSP1ET4Qxy"
      },
      "execution_count": null,
      "outputs": []
    },
    {
      "cell_type": "code",
      "source": [
        "#clean_df.corr() # แสดงความสัมพันธ์ระหว่างคอลัมน์ (Features)\n",
        "\n",
        "ok = clean_df.select_dtypes(include='number').corr() # แสดงความสัมพันธ์ระหว่างคอลัมน์ (Features) โดยเลือกเฉพาะคอลัมน์ที่เป็นตัวเลข\n",
        "\n",
        "ok"
      ],
      "metadata": {
        "id": "EwW6N_nW2qcs"
      },
      "execution_count": null,
      "outputs": []
    },
    {
      "cell_type": "code",
      "source": [
        "import seaborn as sns             # ใช้สำหรับสร้างแผนภูมิ\n",
        "import matplotlib.pyplot as plt   # ใช้สำหรับแสดงแผนภูมิ\n",
        "\n",
        "sns.?(ok, annot=True)             # แสดงแผนภูมิ Heatmap ความสัมพันธ์ (Correlation) ของคอลัมน์ (Features) ที่เป็นตัวเลข -> heatmap(...)\n",
        "plt.show()"
      ],
      "metadata": {
        "id": "p-MxCviETtMe"
      },
      "execution_count": null,
      "outputs": []
    },
    {
      "cell_type": "markdown",
      "source": [
        "# **การแสดงผลด้วยภาพ (Data Visualization)**"
      ],
      "metadata": {
        "id": "3bV_p2--Zhu3"
      }
    },
    {
      "cell_type": "markdown",
      "source": [
        "### ฟังก์ชันที่ใช้ในการอ่านข้อมูลบ้าน\n",
        "* สร้าง DataFrame ของบ้านที่มีข้อมูลครบถ้วน (Complete)\n"
      ],
      "metadata": {
        "id": "9Px0J75qY0tv"
      }
    },
    {
      "cell_type": "code",
      "source": [
        "import pandas as pd\n",
        "# -------------------------------------------------------\n",
        "# ฟังก์ชันในการสร้าง DataFrame ของบ้านที่มีข้อมูลครบถ้วน (Complete)\n",
        "# -------------------------------------------------------\n",
        "def get_house_info():\n",
        "\n",
        "  # ข้อมูลบ้าน (name) พื้นที่ใช้สอย (size) จำนวนห้อง (room) และราคาบ้าน (price)\n",
        "  data = {'name':  ['House.1', 'House.2', 'House.3', 'House.4', 'House.5', 'House.6', 'House.7'],\n",
        "          'size':  [       50,        75,       105,       130,       145,       170,       200],\n",
        "          'room':  [        2,         2,         3,         4,         4,         5,         6],\n",
        "          'price': [  500_000, 1_000_000,   650_000, 1_200_000, 1_300_000, 1_850_000, 2_000_000]}\n",
        "\n",
        "  df = pd.DataFrame(data) # สร้าง DataFrame\n",
        "  return df\n"
      ],
      "metadata": {
        "id": "ZPoCWLJPY0tv"
      },
      "execution_count": null,
      "outputs": []
    },
    {
      "cell_type": "code",
      "source": [
        "df = get_house_info() # อ่านข้อมูลบ้าน จากฟังก์ชันที่กำหนดไว้\n",
        "\n",
        "df                    # แสดงผลลัพธ์ที่จัดเก็บใน ตาราง(DataFrame)"
      ],
      "metadata": {
        "id": "8EDORZqfY0tv"
      },
      "execution_count": null,
      "outputs": []
    },
    {
      "cell_type": "markdown",
      "source": [
        "### แสดงแผนภูมิ Scatter ความสัมพันธ์ ระหว่างพื้นที่ใช้สอย (size) และราคาบ้าน (price)"
      ],
      "metadata": {
        "id": "hagGtJLfGwSC"
      }
    },
    {
      "cell_type": "code",
      "source": [
        "# prompt: plot scatter df house\n",
        "\n",
        "import matplotlib.pyplot as plt       # นำเข้า sub module: matplotlib.pyplot\n",
        "\n",
        "plt.figure(figsize=(6, 4))            # กำหนดขนาดของรูปภาพ (6 x 4)\n",
        "plt.scatter(df['size'], df['price'])  # แสดงแผนภูมิ scatter โดยแกน x: ขนาด(size), แกน y: ราคา (price)\n",
        "plt.xlabel('Size')                    # คำอธิบายแกน X\n",
        "plt.ylabel('Price')                   # คำอธิบายแกน Y\n",
        "plt.title('House Price vs. Size')     # คำอธิบาย ชื่อแผนภูมิ\n",
        "\n",
        "#------------------------------------------------------------------------------\n",
        "# แสดงตัวเลขแกน Y (ราคา) ในรูปแบบที่ต้องการ\n",
        "#------------------------------------------------------------------------------\n",
        "# current_values = plt.gca().get_yticks()\n",
        "# plt.gca().set_yticks(current_values)\n",
        "# plt.gca().set_yticklabels(['{:,.0f}'.format(x) for x in current_values])\n",
        "\n",
        "#plt.grid(True)                       # เส้นกริด (grid)\n",
        "plt.show()                            # แสดงแผนภูมิ"
      ],
      "metadata": {
        "id": "q03WNBRxmwKn"
      },
      "execution_count": null,
      "outputs": []
    },
    {
      "cell_type": "markdown",
      "source": [
        "### แสดงแผนภูมิ Pair Plot ความสัมพันธ์ระหว่าง พื้นที่ใช้สอย (size) จำนวนห้อง (room) และราคาบ้าน (price)"
      ],
      "metadata": {
        "id": "gflPIgOCG2rK"
      }
    },
    {
      "cell_type": "code",
      "source": [
        "#df.corr()                                # ไม่สามารถแสดงค่าสหสัมพันธ์ Correlation ได้เนื่องจากมีคอลัมน์ ชื่อบ้าน (name) ที่ไม่ได้เป็นตัวเลข\n",
        "\n",
        "df.select_dtypes(include='number').corr() # แสดงค่าสหสัมพันธ์ (Correlation) ระหว่างคอลัมน์ (Features) โดยเลือกเฉพาะคอลัมน์ที่เป็นตัวเลข"
      ],
      "metadata": {
        "id": "Y9j3-85jBL0D"
      },
      "execution_count": null,
      "outputs": []
    },
    {
      "cell_type": "code",
      "source": [
        "# prompt: another plot for df house\n",
        "\n",
        "import matplotlib.pyplot as plt     # นำเข้า sub module: matplotlib.pyplot\n",
        "import seaborn as sns               # นำเข้า module: seaborn\n",
        "\n",
        "plt.figure(figsize=(8, 4))          # กำหนดขนาดของรูปภาพ (8 x 4)\n",
        "sns.pairplot(df, vars=['size', 'room', 'price'], diag_kind='kde') # ทดสอบลบ diag_kind='kde' (kernel density estimates) ออก\n",
        "plt.suptitle('Pairwise Relationships of House Features', y=1)     # การตั้งค่า y=1.02 จะทำให้ชื่อแผนภูมิเลื่อนขึ้นไปอยู่นอกขอบเขตเล็กน้อย\n",
        "plt.show()                          # แสดงแผนภูมิ"
      ],
      "metadata": {
        "id": "lAQ_cuQAnP9p"
      },
      "execution_count": null,
      "outputs": []
    },
    {
      "cell_type": "markdown",
      "source": [
        "### แสดงแผนภูมิ Bar Chart ความสัมพันธ์ระหว่าง จำนวนนักเรียน (Value) แบ่งตามภูมิภาค (Category)"
      ],
      "metadata": {
        "id": "oo-yPLPjSgbv"
      }
    },
    {
      "cell_type": "code",
      "source": [
        "import pandas as pd               # นำเข้า module: pandas\n",
        "import matplotlib.pyplot as plt   # นำเข้า sub module: matplotlib.pyplot\n",
        "\n",
        "data = {'Category': ['North', 'East', 'West', 'South'], # ข้อมูลจำนวนนักเรียนในสาขาแยกแบ่งตามภูมิภาค\n",
        "        'Value': [100, 35, 15, 25]}\n",
        "\n",
        "df = pd.DataFrame(data)           # จัดเก็บข้อมูลตาราง (DataFrame)\n",
        "\n",
        "plt.figure(figsize=(5, 5))        # กำหนดขนาดของรูปภาพ (5 x 5)\n",
        "\n",
        "# แสดงแผนภูมิ จากจำนวน (Value) แสดงป้ายกำกับเป็น Category รูปแบบตัวเลขจุดทศนิยม 1 ตำแหน่ง และแสดงส่วนแรกเริ่มที่ตำแหน่ง 90 องศา\n",
        "plt.pie(df['Value'], labels=df['Category'], autopct='%1.1f%%', startangle=90)\n",
        "\n",
        "plt.title('Total Student Classify by Region') # คำอธิบาย ชื่อแผนภูมิ\n",
        "#plt.axis('equal')                            # กำหนดให้สเกลในแกน x และ y มีค่าเท่ากันป้องกันการแสดงผลเป็นวงรี\n",
        "plt.show()"
      ],
      "metadata": {
        "id": "tkcTrGZ6n3RM"
      },
      "execution_count": null,
      "outputs": []
    },
    {
      "cell_type": "markdown",
      "source": [
        "### การสร้างแผนภูมิแท่ง (Bar) และ วงกลม (Pie) ในภาพเดียวกัน (Sub Plot)"
      ],
      "metadata": {
        "id": "hl5bavxJM2Hr"
      }
    },
    {
      "cell_type": "code",
      "source": [
        "# prompt: ช่วยสร้าง subplot ประกอบด้วย bar และ pie chart จากข้อมูล data\n",
        "\n",
        "import pandas as pd\n",
        "import matplotlib.pyplot as plt\n",
        "\n",
        "data = {'Category': ['North', 'East', 'West', 'South'],\n",
        "        'Value': [100, 35, 15, 25]}\n",
        "\n",
        "df = pd.DataFrame(data)\n",
        "\n",
        "fig, axes = plt.subplots(1, 2, figsize=(10, 5)) # สร้างแผนภูมิขนาด 1 แถว, 2 คอลัมน์ ขนาด 10 x 5\n",
        "\n",
        "#----------------------------------------------------------------------------------------------------------------\n",
        "# Bar chart\n",
        "#----------------------------------------------------------------------------------------------------------------\n",
        "axes[0].bar(df['Category'], df['Value'])        # สร้างแผนภูมิแท่ง ให้แกน x เป็น Category, แกน y เป็น Value\n",
        "axes[0].set_title('Bar Chart')                  # คำอธิบาย ชื่อแผนภูมิ\n",
        "axes[0].set_xlabel('Category')                  # คำอธิบายแกน X\n",
        "axes[0].set_ylabel('Value')                     # คำอธิบายแกน Y\n",
        "\n",
        "#----------------------------------------------------------------------------------------------------------------\n",
        "# Pie chart\n",
        "#----------------------------------------------------------------------------------------------------------------\n",
        "# แสดงแผนภูมิ จากจำนวน (Value) แสดงป้ายกำกับเป็น Category รูปแบบตัวเลขจุดทศนิยม 1 ตำแหน่ง และแสดงส่วนแรกเริ่มที่ตำแหน่ง 90 องศา\n",
        "axes[1].pie(df['Value'], labels=df['Category'], autopct='%1.1f%%', startangle=90)\n",
        "\n",
        "axes[1].set_title('Pie Chart')                  # คำอธิบาย ชื่อแผนภูมิ\n",
        "axes[1].axis('equal')                           # กำหนดให้สเกลในแกน x และ y มีค่าเท่ากันป้องกันการแสดงผลเป็นวงรี\n",
        "\n",
        "plt.tight_layout()                              # ลองถาม Gemini ดูว่า คำสั่งนี้ทำงานอย่างไร?\n",
        "plt.show()"
      ],
      "metadata": {
        "id": "7L_WUqmAKNUy"
      },
      "execution_count": null,
      "outputs": []
    },
    {
      "cell_type": "markdown",
      "source": [
        "### สร้างแผนภูมิ Histogram ของอายุ (age) ผู้โดยสารของเรือไททานิค"
      ],
      "metadata": {
        "id": "Y4jpAR7pNdqA"
      }
    },
    {
      "cell_type": "code",
      "source": [
        "# prompt: plot histogram from titanic dataset using seaborn\n",
        "\n",
        "import pandas as pd\n",
        "import matplotlib.pyplot as plt\n",
        "import seaborn as sns\n",
        "\n",
        "titanic = sns.load_dataset('titanic')       # อ่านข้อมูลตาราง (DataFrame) ของลูกเรือไททานิค\n",
        "\n",
        "# -------------------------------------------------------------------------------------------------\n",
        "# Create a histogram of 'age'\n",
        "# -------------------------------------------------------------------------------------------------\n",
        "plt.figure(figsize=(8, 4))                        # กำหนดขนาดของรูปภาพ (8 x 4)\n",
        "sns.histplot(titanic['age'], kde=True)            # แสดง histogram จากอายุของผู้โดยสาร (age)\n",
        "plt.title('Distribution of Passenger Ages')       # คำอธิบาย ชื่อแผนภูมิ\n",
        "plt.xlabel('Age')                                 # คำอธิบายแกน X\n",
        "plt.ylabel('Frequency')                           # คำอธิบายแกน Y\n",
        "plt.show()\n",
        "\n",
        "# -------------------------------------------------------------------------------------------------\n",
        "# Create a boxplot of 'fare' by 'class'\n",
        "# -------------------------------------------------------------------------------------------------\n",
        "plt.figure(figsize=(8, 4))                        # กำหนดขนาดของรูปภาพ (8 x 4)\n",
        "sns.boxplot(x='class', y='fare', data=titanic)    # แสดง box plot โดยแกน x คือ คลาส แกน y (ราคาตั๋ว)\n",
        "plt.title('Fare Distribution by Passenger Class') # คำอธิบาย ชื่อแผนภูมิ\n",
        "plt.xlabel('Class')                               # คำอธิบายแกน X\n",
        "plt.ylabel('Fare')                                # คำอธิบายแกน X\n",
        "plt.show()"
      ],
      "metadata": {
        "id": "lecM4BBcoZuY"
      },
      "execution_count": null,
      "outputs": []
    },
    {
      "cell_type": "code",
      "source": [
        "titanic.info()  # แสดงรายละเอียดโครงสร้างของตาราง (DataFrame) ไททานิค"
      ],
      "metadata": {
        "id": "yCctpjmtO4Im"
      },
      "execution_count": null,
      "outputs": []
    },
    {
      "cell_type": "markdown",
      "source": [
        "# การสกัดหา ข้อมูลเชิงลึก (Insight)"
      ],
      "metadata": {
        "id": "y66WZfu0fgJO"
      }
    },
    {
      "cell_type": "markdown",
      "metadata": {
        "id": "adbbc74d-c7bb-4b21-8d01-5138d83a140c"
      },
      "source": [
        "#### Python Seaborn Tutorial For Beginners: Start Visualizing Data\n",
        "https://www.datacamp.com/tutorial/seaborn-python-tutorial <br/>\n",
        "https://seaborn.pydata.org/tutorial/introduction.html <br/>"
      ]
    },
    {
      "cell_type": "code",
      "execution_count": null,
      "metadata": {
        "id": "807c6ed8-ea4f-449b-9133-9a9c527d559b"
      },
      "outputs": [],
      "source": [
        "import seaborn as sns\n",
        "import matplotlib.pyplot as plt\n",
        "\n",
        "\n",
        "tips = sns.load_dataset(\"tips\")         # อ่านข้อมูลทิป (tips)\n",
        "sns.histplot(data=tips, x=\"total_bill\") # สร้าง histogram จำนวนแท่งเป็นแบบ auto"
      ]
    },
    {
      "cell_type": "code",
      "execution_count": null,
      "metadata": {
        "id": "ac81004f-b8c0-4dd7-a84f-800f7c087cb2"
      },
      "outputs": [],
      "source": [
        "sns.kdeplot(data=tips, x='total_bill')  # แสดงแผนภูมิ kde: (kernel density estimates)"
      ]
    },
    {
      "cell_type": "code",
      "execution_count": null,
      "metadata": {
        "id": "39bb6e92-cdbd-4784-a3a7-aa5e4d5634f4"
      },
      "outputs": [],
      "source": [
        "sns.histplot(data=tips, x=\"total_bill\", bins=20) # ระบุให้จัดกลุ่มข้อมูลทั้งหมด 20 แท่ง"
      ]
    },
    {
      "cell_type": "code",
      "execution_count": null,
      "metadata": {
        "id": "958aa4e1-a0f3-4b62-bafa-46e80d01b9a2"
      },
      "outputs": [],
      "source": [
        "sns.kdeplot(data=tips, x='total_bill')"
      ]
    },
    {
      "cell_type": "code",
      "execution_count": null,
      "metadata": {
        "id": "aa1120be-0b87-4ec6-8c44-0ed1a6273f06"
      },
      "outputs": [],
      "source": [
        "\n",
        "sns.scatterplot(data=tips, x=\"total_bill\", y=\"tip\", hue=\"sex\")  # แสดงแผนภูมิ scatter โดยแกน x: ค่าใช้จ่าย(total_bill), แกน y:ทิป (tip), จุดสี(เพศ)\n",
        "\n",
        "plt.xlabel(\"Total Bill\")                              # คำอธิบายแกน X\n",
        "plt.ylabel(\"Tip\")                                     # คำอธิบายแกน X\n",
        "plt.title(\"Relationship between Total Bill and Tip\")  # คำอธิบาย ชื่อแผนภูมิ\n",
        "\n",
        "plt.show()"
      ]
    },
    {
      "cell_type": "code",
      "execution_count": null,
      "metadata": {
        "id": "a2e595ee-1d66-47ef-b9f1-d3bc56eb2299"
      },
      "outputs": [],
      "source": [
        "type(tips)"
      ]
    },
    {
      "cell_type": "code",
      "execution_count": null,
      "metadata": {
        "id": "a6f72449-1b1a-4f9f-8114-027e9f61b779"
      },
      "outputs": [],
      "source": [
        "tips"
      ]
    },
    {
      "cell_type": "code",
      "execution_count": null,
      "metadata": {
        "id": "6107c654-13b9-47f8-a875-57183ff89c2a"
      },
      "outputs": [],
      "source": [
        "tips.head()"
      ]
    },
    {
      "cell_type": "code",
      "execution_count": null,
      "metadata": {
        "id": "6fd5a974-3c3a-4598-8c8a-86a6e3564f17"
      },
      "outputs": [],
      "source": [
        "tips.columns"
      ]
    },
    {
      "cell_type": "code",
      "execution_count": null,
      "metadata": {
        "id": "f2ebf6c0-b559-496d-a63f-9bd6eea53a8b"
      },
      "outputs": [],
      "source": [
        "tips.info()"
      ]
    },
    {
      "cell_type": "code",
      "execution_count": null,
      "metadata": {
        "id": "500d9889-2571-435c-baad-f2e718a881fe"
      },
      "outputs": [],
      "source": [
        "tips.describe()"
      ]
    },
    {
      "cell_type": "markdown",
      "metadata": {
        "id": "2ba73795-e76f-45a3-9f8e-30706182b96c"
      },
      "source": [
        "#### Seaborn Load Dataset\n",
        "https://seaborn.pydata.org/generated/seaborn.load_dataset.html <br/>\n",
        "https://www.tutorialspoint.com/seaborn/seaborn_load_dataset_method.htm <br/>"
      ]
    },
    {
      "cell_type": "code",
      "execution_count": null,
      "metadata": {
        "id": "60d1a1aa-6b6d-4951-ac02-2341257de663"
      },
      "outputs": [],
      "source": [
        "import seaborn as sns\n",
        "import matplotlib.pyplot as plt\n",
        "\n",
        "tips = sns.load_dataset(\"tips\")\n",
        "tips.head()"
      ]
    },
    {
      "cell_type": "code",
      "execution_count": null,
      "metadata": {
        "id": "5b6e6b08-5402-4f97-bd63-6741bef33073"
      },
      "outputs": [],
      "source": [
        "import pandas as pd\n",
        "\n",
        "sns.catplot(data=tips, x=\"sex\", y=\"tip\", hue=\"time\", height=5) # แสดง Category Plot แกน x (sex), แกน y (tip), สี (เวลา)\n",
        "plt.show()"
      ]
    },
    {
      "cell_type": "markdown",
      "metadata": {
        "id": "ee163e65-6be9-467d-a730-876653e6764e"
      },
      "source": [
        "https://www.datacamp.com/tutorial/seaborn-python-tutorial"
      ]
    },
    {
      "cell_type": "code",
      "execution_count": null,
      "metadata": {
        "id": "ada33eab-87d1-4628-acf7-00373128e169"
      },
      "outputs": [],
      "source": [
        "sns.catplot(data=tips, x='day', y='total_bill')     # แสดง Category Plot แกน x (day), แกน y (total_bill)"
      ]
    },
    {
      "cell_type": "code",
      "source": [
        "# แสดง Category Plot แกน x (day), แกน y (total_bill), สี (smoker), แบ่งคอลัมน์แผนภูมิตามเวลา (time)\n",
        "sns.catplot(data=tips, x='day', y='total_bill', hue='smoker', col='time')"
      ],
      "metadata": {
        "id": "FjpPuAdbP3y5"
      },
      "execution_count": null,
      "outputs": []
    },
    {
      "cell_type": "code",
      "execution_count": null,
      "metadata": {
        "id": "6f763178-28b9-4795-b161-b9c46bab9321"
      },
      "outputs": [],
      "source": [
        "# แสดง Category Plot แกน x (day), แกน y (total_bill), สี (sex), แบ่งคอลัมน์แผนภูมิตามเวลา (time)\n",
        "sns.catplot(data=tips, x='day', y='total_bill', hue='sex', col='time')"
      ]
    }
  ]
}